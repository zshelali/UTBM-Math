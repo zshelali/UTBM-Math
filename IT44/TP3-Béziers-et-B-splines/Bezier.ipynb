{
 "cells": [
  {
   "cell_type": "markdown",
   "metadata": {},
   "source": [
    "# IT44 TP3: Courbes de Bezier et B-splines\n",
    "---\n",
    "\n",
    "<table style=\"background: white;\">\n",
    "    <tr style=\"background: white;\">\n",
    "        <td> <img src='bezier.png'  width=\"500px\">       \n",
    "    </tr>\n",
    "</table>\n",
    "Dans ce TP vous allez travailler sur l'algorithme de de Casteljau pour tracer des courbes de Bézier et tracer également des fonctions B-splines."
   ]
  },
  {
   "cell_type": "markdown",
   "metadata": {},
   "source": [
    "## Algorithme de de Casteljau\n",
    "\n",
    "Ecrire un fonction ```Casteljau(P_0,..,P_n,t)``` s'appuyant sur l'algorithme de de Castejau qui étant donnée un polygone de contrôle ${\\bf P}=(P_0,\\dots, P_n)$ et étant donné un temps $t\\in [0,1]$, calcule les coordonnées de $P_n ^n(t)$."
   ]
  },
  {
   "cell_type": "code",
   "execution_count": null,
   "metadata": {},
   "outputs": [],
   "source": []
  },
  {
   "cell_type": "markdown",
   "metadata": {},
   "source": [
    "## Tracé d'une courbe de Bézier\n",
    "\n",
    "Utiliser la fonction précédente pour tracer des exemples de courbes de Bézier pour des polygones de contrôle de votre choix.\n",
    "\n"
   ]
  },
  {
   "cell_type": "code",
   "execution_count": null,
   "metadata": {},
   "outputs": [],
   "source": []
  },
  {
   "cell_type": "markdown",
   "metadata": {},
   "source": [
    "## Tracé d'une courbe de Bézier via les polynôme de Berstein\n",
    "\n",
    "\n",
    "On admet la relation suivante entre les polynômes de la base de Bernstein $B_i ^n$, $i=0,\\dots,n$ et la base canonique de $\\mathbb{R}_n[x]$, $1,x,x^2,\\dots,x^n$.\n",
    "<table style=\"background: white;\">\n",
    "    <tr style=\"background: white;\">\n",
    "        <td> <img src='bernstein.svg'  width=\"500px\">       \n",
    "    </tr>\n",
    "</table>\n",
    "\n",
    "Etant donné un polygone de contrôle ${\\bf P}=(P_0,\\dots,P_n)$ et un temps $t\\in [0,1]$, écrire deux fonctions qui expriment les polynômes $x(t)$ et $y(t)$ dans la base canonique (votre fonction pourra produire un vecteur pour les coefficients de $x$ et un vecteur pour les coefficients de $y$).\n",
    "\n",
    "Utiliser cette construction pour tracer la courbe paramétrée $\\gamma(t)=(x(t),y(t)$ en utilisant l'algorithme de Horner.\n",
    "\n",
    "Comparer les temps d'exécution du tracé avec la méthode de de Casteljau."
   ]
  },
  {
   "cell_type": "code",
   "execution_count": null,
   "metadata": {},
   "outputs": [],
   "source": []
  },
  {
   "cell_type": "markdown",
   "metadata": {},
   "source": [
    "## Fonction B-splines\n",
    "\n",
    "Ecrire une fonction qui étant donnée un vecteur noeud $\\tau=(t_0,\\dots, t_m)$ et le choix d'un degré $k$ calcule les fonction B-splines $B_{i,k}$ pour $k=0,\\dots,m-k-1$.\n",
    "\n",
    "Donner des représentations graphiques des fonctions B-splines associées à un noeuds donné"
   ]
  },
  {
   "cell_type": "code",
   "execution_count": null,
   "metadata": {},
   "outputs": [],
   "source": []
  },
  {
   "cell_type": "code",
   "execution_count": null,
   "metadata": {},
   "outputs": [],
   "source": []
  }
 ],
 "metadata": {
  "kernelspec": {
   "display_name": "Python 3 (ipykernel)",
   "language": "python",
   "name": "python3"
  },
  "language_info": {
   "codemirror_mode": {
    "name": "ipython",
    "version": 3
   },
   "file_extension": ".py",
   "mimetype": "text/x-python",
   "name": "python",
   "nbconvert_exporter": "python",
   "pygments_lexer": "ipython3",
   "version": "3.9.7"
  }
 },
 "nbformat": 4,
 "nbformat_minor": 4
}
