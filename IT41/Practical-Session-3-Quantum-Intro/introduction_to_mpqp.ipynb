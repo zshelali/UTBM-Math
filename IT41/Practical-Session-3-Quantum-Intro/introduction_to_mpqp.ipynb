{
 "cells": [
  {
   "cell_type": "markdown",
   "metadata": {},
   "source": [
    "# IT41 Practical Session #3  - Starting with MPQP\n",
    "\n",
    "---\n",
    "\n",
    "\n",
    "\n",
    "In this practical session you will learn how to do and run your first quantum computation with MPQP\n",
    "\n",
    "<table style=\"background: white;\">\n",
    "    <tr style=\"background: white;\">\n",
    "        <td> <img src='img/mpqp.png'  width=\"440px\" />  \n",
    "        <img src='img/colibri.png'  width=\"250px\" />  \n",
    "    </tr>\n",
    "</table>\n",
    "\n",
    "MPQP is an open-source framework for quantum computing​ based on Python and developped by the French start-up company ColibriTD (https://www.colibritd.com/). It allows to generate quantum circuits, run them on quantum simulators and/or on quantum computers for different provides (IBM, Azure, AWS, IonQ's, etc..).\n",
    "\n",
    "All docs and info regarding the MPQP library can be found here: https://mpqpdoc.colibri-quantum.com/"
   ]
  },
  {
   "cell_type": "markdown",
   "metadata": {},
   "source": [
    "\n",
    "---\n",
    "\n",
    "## Import MPQP, the gates and the measurement tools\n",
    "\n",
    "To run a quantum algorithm in the circuit formalism one needs to create a cricuit, to place gates and choose  measuement option. \n",
    "To do so, one first need to import the following libraries\n",
    "\n",
    "\n",
    "   "
   ]
  },
  {
   "cell_type": "code",
   "execution_count": 116,
   "metadata": {},
   "outputs": [],
   "source": [
    "from mpqp import *\n",
    "from mpqp.gates import *\n",
    "from mpqp.measures import BasisMeasure"
   ]
  },
  {
   "cell_type": "markdown",
   "metadata": {},
   "source": [
    "A quantum computation is often presented in the circuit formalism\n",
    "\n",
    "<table style=\"background: white;\">\n",
    "    <tr style=\"background: white;\">\n",
    "        <td> <img src='img/circuit.png'  width=\"440px\" />    \n",
    "    </tr>\n",
    "</table>\n",
    "\n",
    "\n",
    "\n",
    "### Create a circuit\n",
    "Thus the first thing to do is to create a circuit that will be made of quatum register (the wires that manipulates qubits) and classical registers (the wire where the values of the measurement will be recorded).\n",
    "\n",
    "To create a circuit we will call the function QCircuit and specify the number of qubits $n$ one wants to use (here let's start with $n=1$):\n"
   ]
  },
  {
   "cell_type": "code",
   "execution_count": 117,
   "metadata": {},
   "outputs": [],
   "source": [
    "circuit = QCircuit(1)"
   ]
  },
  {
   "cell_type": "markdown",
   "metadata": {},
   "source": [
    "### Vizualisation\n",
    "\n",
    "To see our circuit one can use the following command:\n"
   ]
  },
  {
   "cell_type": "code",
   "execution_count": 118,
   "metadata": {},
   "outputs": [
    {
     "name": "stdout",
     "output_type": "stream",
     "text": [
      "   \n",
      "q: \n",
      "   \n"
     ]
    }
   ],
   "source": [
    "print(circuit)"
   ]
  },
  {
   "cell_type": "markdown",
   "metadata": {},
   "source": [
    "### Adding gates\n",
    "\n",
    "Quantum operations are implemented by quantum gates, i.e. unitary matrices acting on the quantum state. Here are a couple of quantum gates implemented in MPQP: The Hadamard matrix, the NOT gate, the Z-gate\n",
    "\n",
    "$$H=\\frac{1}{\\sqrt{2}}\\begin{pmatrix}\n",
    "1 & 1\\\\\n",
    "1 & -1\n",
    "\\end{pmatrix},\n",
    "X=\\begin{pmatrix}\n",
    "0 & 1\\\\\n",
    "1 & 0\n",
    "\\end{pmatrix}, Z=\\begin{pmatrix}\n",
    "1 & 0\\\\\n",
    "0 & -1\n",
    "\\end{pmatrix}\n",
    "$$\n",
    "\n",
    "To add a Hadamard gate to the circuit we can use the command:\n",
    "\n",
    "```Python\n",
    "circuit.add(H(0))\n",
    "```\n",
    "Note that the $H(0)$ indicates to which quantum register, the gate will be added to.\n",
    "You can visualize the result by using again\n",
    "\n",
    "```Python\n",
    "print(circuit)\n",
    "```"
   ]
  },
  {
   "cell_type": "code",
   "execution_count": 119,
   "metadata": {},
   "outputs": [],
   "source": [
    "circuit.add(H(0))"
   ]
  },
  {
   "cell_type": "code",
   "execution_count": 120,
   "metadata": {},
   "outputs": [
    {
     "name": "stdout",
     "output_type": "stream",
     "text": [
      "   ┌───┐\n",
      "q: ┤ H ├\n",
      "   └───┘\n"
     ]
    }
   ],
   "source": [
    "print(circuit)"
   ]
  },
  {
   "cell_type": "markdown",
   "metadata": {},
   "source": [
    "### Adding Measure operators\n",
    "\n",
    "Once we have done as many operation on our circuit one can apply measurement operators. This is achieved by the command\n",
    "```Python\n",
    "circuit.add(BasisMEasure())\n",
    "```\n",
    "\n",
    "In the BasisMeasure command one can specify the qubit to be measured, the basis (standartd by default), the number of shots..."
   ]
  },
  {
   "cell_type": "code",
   "execution_count": 121,
   "metadata": {},
   "outputs": [],
   "source": [
    "circuit.add(BasisMeasure())"
   ]
  },
  {
   "cell_type": "markdown",
   "metadata": {},
   "source": [
    "## Run the circuit\n",
    "\n",
    "Once your circuit is properly generated you can run it on your own computer using a quantum simulator or on a real quantum device. The MPQP allows one to not only address different types of simulator but also different real hardware backend. One shows here some very simple possibilities offered by the multiplaform approach of MPQP \n",
    "\n",
    "First let's load the execution library\n"
   ]
  },
  {
   "cell_type": "code",
   "execution_count": 122,
   "metadata": {},
   "outputs": [],
   "source": [
    "from mpqp.execution import *"
   ]
  },
  {
   "cell_type": "markdown",
   "metadata": {},
   "source": [
    "### Run on AerSimulator (Qiskit Simulator) or Cirq (Google simulator)\n",
    "\n",
    "The command to run a curcuit is \n",
    "```Python \n",
    "run() \n",
    "```\n",
    "\n",
    "The command takes as entry the circuit to execute and the backend.\n",
    "\n",
    "If one wants to run AerSimulator the local simulator of IBM or Cirq for Google, the sequence is\n",
    "\n",
    "```Python\n",
    "run(circuit,IBMDevice.AER_SIMULATOR)\n",
    "```\n",
    "\n",
    "Or\n",
    "\n",
    "\n",
    "```Python\n",
    "run(circuit,GOOGLEDevice.CIRQ_LOCAL_SIMULATOR)\n",
    "```\n",
    "\n",
    "It is also possible to use simulators that are desgined to respond with similar amount of error of the real backend. For instance to use the \"Fake Brisbane' quantum computer one can run:\n",
    "\n",
    "```Python\n",
    "from mpqp.execution.simulated_devices import*\n",
    "result=run(circuit,IBMSimulatedDevice.FakeBrisbane)\n",
    "```\n",
    "\n",
    "It is then possible to run on different devices at once:\n",
    "\n",
    "```Python\n",
    "run(circuit,[IBMDevice.AER_SIMULATOR,GOOGLEDevice.CIRQ_LOCAL_SIMULATOR,IBMSimulatedDevice.FakeBrisbane])\n",
    "```"
   ]
  },
  {
   "cell_type": "code",
   "execution_count": 123,
   "metadata": {},
   "outputs": [],
   "source": [
    "from mpqp.execution.simulated_devices import *"
   ]
  },
  {
   "cell_type": "code",
   "execution_count": 124,
   "metadata": {},
   "outputs": [],
   "source": [
    "#result1 = run(circuit, GOOGLEDevice.CIRQ_LOCAL_SIMULATOR) ## qsimcirq is not compatible on my machine"
   ]
  },
  {
   "cell_type": "code",
   "execution_count": 125,
   "metadata": {},
   "outputs": [],
   "source": [
    "#print(result1)"
   ]
  },
  {
   "cell_type": "code",
   "execution_count": 126,
   "metadata": {},
   "outputs": [],
   "source": [
    "result2 = run(circuit, IBMSimulatedDevice.FakeBrisbane)"
   ]
  },
  {
   "cell_type": "code",
   "execution_count": 127,
   "metadata": {},
   "outputs": [
    {
     "name": "stdout",
     "output_type": "stream",
     "text": [
      "Result: IBMSimulatedDevice, FakeBrisbane\n",
      "  Counts: [522, 502]\n",
      "  Probabilities: [0.50977, 0.49023]\n",
      "  Samples:\n",
      "    State: 0, Index: 0, Count: 522, Probability: 0.5097656\n",
      "    State: 1, Index: 1, Count: 502, Probability: 0.4902344\n",
      "  Error: None\n"
     ]
    }
   ],
   "source": [
    "print(result2)"
   ]
  },
  {
   "cell_type": "code",
   "execution_count": 128,
   "metadata": {},
   "outputs": [],
   "source": [
    "result3 = run(circuit, [IBMDevice.AER_SIMULATOR, IBMSimulatedDevice.FakeBrisbane])"
   ]
  },
  {
   "cell_type": "code",
   "execution_count": 129,
   "metadata": {},
   "outputs": [
    {
     "name": "stdout",
     "output_type": "stream",
     "text": [
      "BatchResult: 2 results\n",
      "    Result: circuit 1, IBMDevice, AER_SIMULATOR\n",
      "      Counts: [510, 514]\n",
      "      Probabilities: [0.49805, 0.50195]\n",
      "      Samples:\n",
      "        State: 0, Index: 0, Count: 510, Probability: 0.4980469\n",
      "        State: 1, Index: 1, Count: 514, Probability: 0.5019531\n",
      "      Error: None\n",
      "    Result: circuit 1, IBMSimulatedDevice, FakeBrisbane\n",
      "      Counts: [509, 515]\n",
      "      Probabilities: [0.49707, 0.50293]\n",
      "      Samples:\n",
      "        State: 0, Index: 0, Count: 509, Probability: 0.4970703\n",
      "        State: 1, Index: 1, Count: 515, Probability: 0.5029297\n",
      "      Error: None\n"
     ]
    }
   ],
   "source": [
    "print(result3)"
   ]
  },
  {
   "cell_type": "markdown",
   "metadata": {},
   "source": [
    "You can also gets the result by just printing the outcomes of the calculation\n",
    "```Python\n",
    "print(result)\n",
    "```"
   ]
  },
  {
   "cell_type": "markdown",
   "metadata": {},
   "source": [
    "###  Run on the IBM Quantum Computer\n",
    "\n",
    "We explain here how to use MPQP to submit jobs on real Quantum hardware. \n",
    "\n",
    "First you should from the terminal run the command \n",
    "\n",
    "```Python\n",
    "setup_connections\n",
    "```\n",
    "\n",
    "Then you just use the run command as we have seen before.\n",
    "\n",
    "```Python\n",
    "result=run(circuit,IBMDevice.IBM_LEAST_BUSY)\n",
    "print(result)\n",
    "```\n",
    "\n",
    "Do not hesitate to check with the tabulation key to have acess to all different types of machines\n"
   ]
  },
  {
   "cell_type": "code",
   "execution_count": 130,
   "metadata": {},
   "outputs": [],
   "source": [
    "job_id, job = submit(circuit, IBMDevice.IBM_LEAST_BUSY) # submiting the job for avoiding too long waiting times"
   ]
  },
  {
   "cell_type": "code",
   "execution_count": 131,
   "metadata": {},
   "outputs": [
    {
     "name": "stdout",
     "output_type": "stream",
     "text": [
      "Status of d0kqde58jzxg008n60p0: JobStatus.QUEUED\n"
     ]
    }
   ],
   "source": [
    "print(f\"Status of {job_id}: {job.status}\") "
   ]
  },
  {
   "cell_type": "code",
   "execution_count": 132,
   "metadata": {},
   "outputs": [
    {
     "data": {
      "text/plain": [
       "Result(Job(JobType.SAMPLE, QCircuit([BasisMeasure([0])], nb_qubits=1), IBMDevice.IBM_SHERBROOKE, BasisMeasure([0], c_targets=None)), [Sample(1, index=0, count=516, probability=0.50390625), Sample(1, index=1, count=508, probability=0.49609375)], None, 1024)"
      ]
     },
     "execution_count": 132,
     "metadata": {},
     "output_type": "execute_result"
    }
   ],
   "source": [
    "get_remote_result(job_id, device=IBMDevice.IBM_LEAST_BUSY)"
   ]
  },
  {
   "cell_type": "markdown",
   "metadata": {},
   "source": [
    "\n",
    "## Two qubit circuit and entanglement\n",
    "\n",
    "We have worked with a very simple circuit based on only one qubit manipulation. When one works with several qubit one can apply gates acting on several qubit. A very important gate is the CNOT gate or Controlled NOT gate. When apply on two qubit registers, the gate apply a NOT on the second register if the state of the first qubit is $|1>$.\n",
    "\n",
    "The matrix of this 2-qubit gate is in the standard basis given by\n",
    "$$CNOT=\\begin{pmatrix}\n",
    "1 & 0 &0 &0 \\\\\n",
    "0 & 1 & 0 & 0\\\\\n",
    "0 & 0 & 0  & 1\\\\\n",
    "0 & 0 & 1  & 0\n",
    "\\end{pmatrix}$$\n",
    "\n",
    "The symbol used for this gate is \n",
    "<table style=\"background: white;\">\n",
    "    <tr style=\"background: white;\">\n",
    "        <td> <img src='img/cnot.png'  width=\"150px\" />    \n",
    "    </tr>\n",
    "</table>\n",
    "\n",
    "The mpqp command to apply a CNOT gate should specify first the control qubit and then the target qubit:\n",
    "\n",
    "```Python\n",
    "circuit=QCircuit(2)\n",
    "circuit.add(H(0))\n",
    "circuit.add(CNOT(0,1))\n",
    "```\n",
    "\n",
    "Create the following circuit with MPQP   \n",
    "\n",
    "<table style=\"background: white;\">\n",
    "    <tr style=\"background: white;\">\n",
    "        <td> <img src='img/epr.png'  width=\"440px\" />    \n",
    "    </tr>\n",
    "</table>\n",
    "\n",
    "And measure it in the standard basis with the simulator and a quantum machine."
   ]
  },
  {
   "cell_type": "code",
   "execution_count": 133,
   "metadata": {},
   "outputs": [
    {
     "name": "stdout",
     "output_type": "stream",
     "text": [
      "     ┌───┐┌─┐\n",
      "  q: ┤ H ├┤M├\n",
      "     └───┘└╥┘\n",
      "c: 1/══════╩═\n",
      "           0 \n"
     ]
    }
   ],
   "source": [
    "circuit_n = QCircuit(2)\n",
    "circuit_n.add(H(0))\n",
    "circuit_n.add(CNOT(0,1))\n",
    "circuit_n.add(BasisMeasure())\n",
    "\n",
    "print(circuit)"
   ]
  },
  {
   "cell_type": "code",
   "execution_count": 134,
   "metadata": {},
   "outputs": [
    {
     "name": "stdout",
     "output_type": "stream",
     "text": [
      "Result: IBMSimulatedDevice, FakeBrisbane\n",
      "  Counts: [479, 22, 23, 500]\n",
      "  Probabilities: [0.46777, 0.02148, 0.02246, 0.48828]\n",
      "  Samples:\n",
      "    State: 00, Index: 0, Count: 479, Probability: 0.4677734\n",
      "    State: 01, Index: 1, Count: 22, Probability: 0.0214844\n",
      "    State: 10, Index: 2, Count: 23, Probability: 0.0224609\n",
      "    State: 11, Index: 3, Count: 500, Probability: 0.4882812\n",
      "  Error: None\n"
     ]
    }
   ],
   "source": [
    "result_n = run(circuit_n, IBMSimulatedDevice.FakeBrisbane)\n",
    "\n",
    "print(result_n)"
   ]
  },
  {
   "cell_type": "markdown",
   "metadata": {},
   "source": [
    "MPQP also allows to directly to provide the circuit in a sequential array. For instance the previous circuit can be written as\n",
    "```Python\n",
    "circuit=QCirctuit([H(0),CNOT(0,1),BasisMeasure([0,1],shots=1000)])\n",
    "```"
   ]
  },
  {
   "cell_type": "code",
   "execution_count": 135,
   "metadata": {},
   "outputs": [
    {
     "name": "stdout",
     "output_type": "stream",
     "text": [
      "     ┌───┐     ┌─┐   \n",
      "q_0: ┤ H ├──■──┤M├───\n",
      "     └───┘┌─┴─┐└╥┘┌─┐\n",
      "q_1: ─────┤ X ├─╫─┤M├\n",
      "          └───┘ ║ └╥┘\n",
      "c: 2/═══════════╩══╩═\n",
      "                0  1 \n"
     ]
    }
   ],
   "source": [
    "circuit_seq = QCircuit([H(0), CNOT(0, 1), BasisMeasure([0,1], shots=1000)])\n",
    "\n",
    "\n",
    "print(circuit_seq)"
   ]
  },
  {
   "cell_type": "code",
   "execution_count": 136,
   "metadata": {},
   "outputs": [
    {
     "name": "stdout",
     "output_type": "stream",
     "text": [
      "Result: IBMSimulatedDevice, FakeBrisbane\n",
      "  Counts: [480, 19, 27, 474]\n",
      "  Probabilities: [0.48, 0.019, 0.027, 0.474]\n",
      "  Samples:\n",
      "    State: 00, Index: 0, Count: 480, Probability: 0.48\n",
      "    State: 01, Index: 1, Count: 19, Probability: 0.019\n",
      "    State: 10, Index: 2, Count: 27, Probability: 0.027\n",
      "    State: 11, Index: 3, Count: 474, Probability: 0.474\n",
      "  Error: None\n"
     ]
    }
   ],
   "source": [
    "result_seq = run(circuit_seq, IBMSimulatedDevice.FakeBrisbane)\n",
    "\n",
    "print(result_seq)"
   ]
  },
  {
   "cell_type": "markdown",
   "metadata": {},
   "source": [
    "## Measuring a state in an alternative basis (optional)\n",
    "\n",
    "The command 'BasisMeasure' only allows to make single qubit measurement in the standard basis $|0>,|1>$. MPQP allows one to create our own basis of measurements\n",
    "\n",
    "However it is also possible to make a measurement in any basis $|u_1>,|u_2>$ by making a rotation before the measurement.\n",
    "\n",
    "Suppose the unitary matrix $U$ is the change of basis from $|u_1>, |u_2>$ to the standard basis $|0>,|1>$. Then applying $U$ and a measurement in the the $Z$-basis is equivalent to making a measurment in the $|u_1>,|u_2>$ basis.\n",
    "\n",
    "For example for a measurement in the $X$-basis of the quantum register $i$ we first apply the rotation given by the Hadamard matrix:\n",
    "```Python\n",
    "circuit.add(H(i),BasisMeasure([i]))\n",
    "```\n",
    "\n",
    "For measuring in the $Y$-basis ($\\frac{|0>+i|1>}{\\sqrt{2}}, \\frac{|0>-i|1>}{\\sqrt{2}}$ the change of basis is obtained by applying the matrices $S^\\dagger=\\begin{pmatrix}\n",
    "1 & 0\\\\\n",
    "0 & e^{-i\\pi/2}\n",
    "\\end{pmatrix}$ and $H$:\n",
    "\n",
    "```Python\n",
    "circuit.add([Rk_dagger(2,i),H(i),BasisMeasure([i])])\n",
    "```\n"
   ]
  },
  {
   "cell_type": "code",
   "execution_count": 137,
   "metadata": {},
   "outputs": [
    {
     "name": "stdout",
     "output_type": "stream",
     "text": [
      "             \n",
      "q_0: ────────\n",
      "     ┌───┐┌─┐\n",
      "q_1: ┤ H ├┤M├\n",
      "     └───┘└╥┘\n",
      "c: 1/══════╩═\n",
      "           0 \n",
      "                    \n",
      "q_0: ───────────────\n",
      "     ┌─────┐┌───┐┌─┐\n",
      "q_1: ┤ Sdg ├┤ H ├┤M├\n",
      "     └─────┘└───┘└╥┘\n",
      "c: 1/═════════════╩═\n",
      "                  0 \n"
     ]
    }
   ],
   "source": [
    "circ_basisX = QCircuit(2)\n",
    "circ_basisX.add([H(1), BasisMeasure([1])])\n",
    "print(circ_basisX)\n",
    "\n",
    "circ_basisY = QCircuit(2)\n",
    "circ_basisY.add([S_dagger(1), H(1), BasisMeasure([1])]) \n",
    "print(circ_basisY)"
   ]
  },
  {
   "cell_type": "markdown",
   "metadata": {},
   "source": [
    "More generally the rotation gate U allows one to make a change of basis before measurements"
   ]
  },
  {
   "cell_type": "markdown",
   "metadata": {},
   "source": [
    "## Exercises "
   ]
  },
  {
   "cell_type": "markdown",
   "metadata": {},
   "source": [
    "### Exercise 1 (super dense conding)\n",
    "\n",
    "The super dense coding protocol is a communication protocol that allows to transmit two classical bit by sending only one qubit. It was created in Bennet and Wiesner.\n",
    "The following circuit represents the protocol:\n",
    "\n",
    "<table style=\"background: white;\">\n",
    "    <tr style=\"background: white;\">\n",
    "        <td> <img src='img/superdense.png'  width=\"440px\" />    \n",
    "    </tr>\n",
    "</table>\n",
    "\n",
    "Alice and Bob have each of them one qubit of an entangled EPR states\n",
    "$$|EPR>=\\dfrac{1}{\\sqrt{2}}(|00>+|11>)$$\n",
    "Then if Alice wants to send the two classical bits $(b_1,b_2)$ with $b_1, b_2 \\in\\{0,1\\}$, she first applies $X^{b_2}$ then $Z^{b_1}$ to her qubit and send it to Bob (if $b_i=0$ she applies the identity matrix). Then Bob applies the CNOT gate and the Hadamard gate on the first register and measures the two qubit.\n",
    "\n",
    "Implement the protocol and check that in all four cases, Alice is transmetted two classical bits by only sending one qubit."
   ]
  },
  {
   "cell_type": "code",
   "execution_count": 138,
   "metadata": {},
   "outputs": [],
   "source": [
    "def alice_superdense_coding(b1, b2):\n",
    "    circuit = QCircuit(2)\n",
    "    circuit.add([H(0), CNOT(0, 1)])\n",
    "    if b2 == 1 :\n",
    "        circuit.add(X(0))\n",
    "    if b1 == 1 :\n",
    "        circuit.add(Z(0))\n",
    "    return circuit\n",
    "\n",
    "def bob_superdense_coding(cir):\n",
    "    cir.add([CNOT(0, 1), H(0), BasisMeasure()])\n",
    "    return run(cir, IBMDevice.AER_SIMULATOR)\n"
   ]
  },
  {
   "cell_type": "code",
   "execution_count": 139,
   "metadata": {},
   "outputs": [
    {
     "name": "stdout",
     "output_type": "stream",
     "text": [
      "b1=0,b2=0,\n",
      "     ┌───┐          ┌───┐┌─┐\n",
      "q_0: ┤ H ├──■────■──┤ H ├┤M├\n",
      "     └───┘┌─┴─┐┌─┴─┐└┬─┬┘└╥┘\n",
      "q_1: ─────┤ X ├┤ X ├─┤M├──╫─\n",
      "          └───┘└───┘ └╥┘  ║ \n",
      "c: 2/═════════════════╩═══╩═\n",
      "                      1   0 \n",
      "Result: IBMDevice, AER_SIMULATOR\n",
      "  Counts: [1024, 0, 0, 0]\n",
      "  Probabilities: [1, 0, 0, 0]\n",
      "  Samples:\n",
      "    State: 00, Index: 0, Count: 1024, Probability: 1\n",
      "  Error: None\n",
      "\n",
      "\n",
      "\n",
      "b1=0,b2=1,\n",
      "     ┌───┐     ┌───┐     ┌───┐┌─┐\n",
      "q_0: ┤ H ├──■──┤ X ├──■──┤ H ├┤M├\n",
      "     └───┘┌─┴─┐└───┘┌─┴─┐└┬─┬┘└╥┘\n",
      "q_1: ─────┤ X ├─────┤ X ├─┤M├──╫─\n",
      "          └───┘     └───┘ └╥┘  ║ \n",
      "c: 2/══════════════════════╩═══╩═\n",
      "                           1   0 \n",
      "Result: IBMDevice, AER_SIMULATOR\n",
      "  Counts: [0, 1024, 0, 0]\n",
      "  Probabilities: [0, 1, 0, 0]\n",
      "  Samples:\n",
      "    State: 01, Index: 1, Count: 1024, Probability: 1\n",
      "  Error: None\n",
      "\n",
      "\n",
      "\n",
      "b1=1,b2=0,\n",
      "     ┌───┐     ┌───┐     ┌───┐┌─┐\n",
      "q_0: ┤ H ├──■──┤ Z ├──■──┤ H ├┤M├\n",
      "     └───┘┌─┴─┐└───┘┌─┴─┐└┬─┬┘└╥┘\n",
      "q_1: ─────┤ X ├─────┤ X ├─┤M├──╫─\n",
      "          └───┘     └───┘ └╥┘  ║ \n",
      "c: 2/══════════════════════╩═══╩═\n",
      "                           1   0 \n",
      "Result: IBMDevice, AER_SIMULATOR\n",
      "  Counts: [0, 0, 1024, 0]\n",
      "  Probabilities: [0, 0, 1, 0]\n",
      "  Samples:\n",
      "    State: 10, Index: 2, Count: 1024, Probability: 1\n",
      "  Error: None\n",
      "\n",
      "\n",
      "\n",
      "b1=1,b2=1,\n",
      "     ┌───┐     ┌───┐┌───┐     ┌───┐┌─┐\n",
      "q_0: ┤ H ├──■──┤ X ├┤ Z ├──■──┤ H ├┤M├\n",
      "     └───┘┌─┴─┐└───┘└───┘┌─┴─┐└┬─┬┘└╥┘\n",
      "q_1: ─────┤ X ├──────────┤ X ├─┤M├──╫─\n",
      "          └───┘          └───┘ └╥┘  ║ \n",
      "c: 2/═══════════════════════════╩═══╩═\n",
      "                                1   0 \n",
      "Result: IBMDevice, AER_SIMULATOR\n",
      "  Counts: [0, 0, 0, 1024]\n",
      "  Probabilities: [0, 0, 0, 1]\n",
      "  Samples:\n",
      "    State: 11, Index: 3, Count: 1024, Probability: 1\n",
      "  Error: None\n",
      "\n",
      "\n",
      "\n"
     ]
    }
   ],
   "source": [
    "encoded_list = []\n",
    "for x in [0, 1]:\n",
    "    for y in [0, 1]:\n",
    "        encoded = alice_superdense_coding(x, y)\n",
    "        decoded = bob_superdense_coding(encoded)\n",
    "\n",
    "        print(f\"b1={x},b2={y},\\n{encoded}\\n{decoded}\\n\\n\\n\")\n"
   ]
  },
  {
   "cell_type": "markdown",
   "metadata": {},
   "source": [
    "### Exercise 2: Quantum Teleportation\n",
    "\n",
    "The quantum teleportation protocol allows to transfer the information (amplitudes) defining a qubit $|\\psi>$ to another qubit by taking advantage of entanglement.\n",
    "\n",
    "Here is the circuit corresponding to the protocol\n",
    "<table style=\"background: white;\">\n",
    "    <tr style=\"background: white;\">\n",
    "        <td> <img src='img/teleportation2.png'  width=\"440px\" />    \n",
    "    </tr>\n",
    "</table>\n",
    "\n",
    "This protocol insures that the qubit $|q_1>$ on the quantum register $0$ will be in the quantum register $2$ ($|q_3>$) at the end of the protocol.\n",
    "\n",
    "\n",
    "1) Prepare the qubit $|q_1>$ such that $|q_1>=|1>$ and check that the measurement of the last qubit gives $1$ with probability $1$.\n",
    "\n",
    "2) Same question with $|q_1>=|+>$. How do you check that the last qubit in in state $|+>$ at the end of the procotol ?\n",
    "\n",
    "3) (more difficult) Can you preparer any state $|q_1>=|\\psi>$ and provide some argument to check that the qubit $|\\psi>$ has been teleported at the end of the procotol ? (you may need to use the $U_3$ gate of qiskit and read the optional section on \"Measurement in an alternative basis\"\n"
   ]
  },
  {
   "cell_type": "code",
   "execution_count": 140,
   "metadata": {},
   "outputs": [
    {
     "name": "stdout",
     "output_type": "stream",
     "text": [
      "     ┌───┐┌─┐\n",
      "  q: ┤ X ├┤M├\n",
      "     └───┘└╥┘\n",
      "c: 1/══════╩═\n",
      "           0  \n",
      " Result: IBMDevice, AER_SIMULATOR\n",
      "  Counts: [0, 1024]\n",
      "  Probabilities: [0, 1]\n",
      "  Samples:\n",
      "    State: 1, Index: 1, Count: 1024, Probability: 1\n",
      "  Error: None\n"
     ]
    }
   ],
   "source": [
    "# 1 \n",
    "circ1 = QCircuit(1)\n",
    "circ1.add([X(0), BasisMeasure()])\n",
    "\n",
    "print(circ1,\"\\n\", run(circ1, IBMDevice.AER_SIMULATOR))"
   ]
  },
  {
   "cell_type": "code",
   "execution_count": 141,
   "metadata": {},
   "outputs": [
    {
     "name": "stdout",
     "output_type": "stream",
     "text": [
      "     ┌───┐ ░ ┌───┐┌─┐\n",
      "  q: ┤ H ├─░─┤ H ├┤M├\n",
      "     └───┘ ░ └───┘└╥┘\n",
      "c: 1/══════════════╩═\n",
      "                   0  \n",
      " Result: IBMDevice, AER_SIMULATOR\n",
      "  Counts: [1024, 0]\n",
      "  Probabilities: [1, 0]\n",
      "  Samples:\n",
      "    State: +, Index: 0, Count: 1024, Probability: 1\n",
      "  Error: None\n"
     ]
    }
   ],
   "source": [
    "#2\n",
    "from mpqp.measures import HadamardBasis\n",
    "circ2 = QCircuit(1)\n",
    "hadamard_basis = HadamardBasis(1)\n",
    "circ2.add([H(0), BasisMeasure(basis=hadamard_basis)])\n",
    "\n",
    "print(circ2,\"\\n\", run(circ2, IBMDevice.AER_SIMULATOR))"
   ]
  },
  {
   "cell_type": "markdown",
   "metadata": {},
   "source": [
    "### Using Qiskit and not MPQP (the syntax is really similar)\n"
   ]
  },
  {
   "cell_type": "code",
   "execution_count": null,
   "metadata": {},
   "outputs": [
    {
     "data": {
      "image/png": "[encoded data removed]",
      "text/plain": [
       "<Figure size 996.965x367.889 with 1 Axes>"
      ]
     },
     "execution_count": 142,
     "metadata": {},
     "output_type": "execute_result"
    }
   ],
   "source": [
    "#3 \n",
    "from qiskit import *\n",
    "import numpy as np\n",
    "\n",
    "# circuit & registers\n",
    "secret = QuantumRegister(1, \"secret |q1⟩\")\n",
    "alice = QuantumRegister(1, \"Alice |q2⟩\")\n",
    "bob = QuantumRegister(1, \"Bob |q3⟩\")\n",
    "\n",
    "cr = ClassicalRegister(3, \"c\")\n",
    "\n",
    "circ3 = QuantumCircuit(secret, alice, bob, cr)\n",
    "\n",
    "# ---- reproducing the diagram ----\n",
    "\n",
    "# alice and bob have a qubit state |0⟩\n",
    "\n",
    "# putting Alice's qubit into superposition |+⟩\n",
    "circ3.h(alice)\n",
    "# then entangling it with Bob's qubit by applying a CNOT gate\n",
    "circ3.cx(alice, bob)\n",
    "\n",
    "# ==> We now have |EPR⟩ : 2 entangled qubits\n",
    "\n",
    "#generating a random secret qubit\n",
    "\n",
    "theta, phi, lambda_ = np.pi/3, 0, 0\n",
    "circ3.u(theta, phi, lambda_, secret)\n",
    "\n",
    "# entangling the secret qubit to Alice's\n",
    "circ3.cx(secret, alice)\n",
    "# this time we apply the Hadamard gate to the secret qubit AFTER entangling it to Alice because we don't want to alter its state \n",
    "circ3.h(secret)\n",
    "\n",
    "# measuring alice's qubits and storing them in the classical registers\n",
    "circ3.measure(secret , cr[0])\n",
    "circ3.measure(alice, cr[1])\n",
    "\n",
    "# then apply an X gate on Bob's qubit if the second bit from Alice's measurement is 1\n",
    "# and apply a Z gate if the first bit is 1\n",
    "circ3.x(bob).c_if(cr[1], 1)\n",
    "circ3.z(bob).c_if(cr[0], 1)\n",
    "\n",
    "#this should have recovered the original state of the secret qubit.\n",
    "\n",
    "\n",
    "\n",
    "# ---------------------------------------------------------------------------------------------------------------------------\n",
    "\n",
    "# According to \"Measurement in an alternative basis\" and the official Qiskit Documentation\n",
    "\n",
    "# We prepared the secret qubit by applying on |q1⟩ = |0⟩ the transformation: U.|0⟩ \n",
    "# therefore, at the end, to check if Bob's qubit is also |q3⟩ = U.|0⟩ , we can apply U†.|q3⟩\n",
    "# We are now \"back\" in the Z basis, which is the basis `.measure` uses.\n",
    "# so if p(|q3⟩->|0⟩) = 1 after measurement, the teleportation is successful.\n",
    "\n",
    "circ3.u(theta, phi, lambda_, bob).inverse() # equivalent to circ3.u(-theta, -phi, -lambda_, bob)`\n",
    "\n",
    "# We now measure Bob's |q3⟩ qubit\n",
    "circ3.measure(bob, cr[2])\n",
    "\n",
    "\n",
    "\n",
    "circ3.draw(\"mpl\")"
   ]
  },
  {
   "cell_type": "code",
   "execution_count": 145,
   "metadata": {},
   "outputs": [
    {
     "data": {
      "text/latex": [
       "$\\displaystyle P(|q_3\\rangle \\rightsquigarrow |0\\rangle) = 1.0$"
      ],
      "text/plain": [
       "<IPython.core.display.Math object>"
      ]
     },
     "metadata": {},
     "output_type": "display_data"
    }
   ],
   "source": [
    "from qiskit_aer import Aer\n",
    "from qiskit import transpile\n",
    "\n",
    "simulator = Aer.get_backend('qasm_simulator')\n",
    "compiled_circuit = transpile(circ3, simulator)\n",
    "job = simulator.run(compiled_circuit, backend=simulator, shots=1024)\n",
    "\n",
    "\n",
    "result = job.result()\n",
    "counts = result.get_counts(circ3)\n",
    "\n",
    "\n",
    "\n",
    "total = sum(counts.values())\n",
    "prob_0 = sum(v for k, v in counts.items() if k[0] == '0') / total\n",
    "\n",
    "from IPython.display import display, Math #just trying some libraries\n",
    "display(Math(f\"P(|q_3\\\\rangle \\\\rightsquigarrow |0\\\\rangle) = {prob_0}\"))\n"
   ]
  },
  {
   "cell_type": "markdown",
   "metadata": {},
   "source": [
    "### Conclusion\n",
    "\n",
    "The qubit was successfully teleported, since we have $P(|q_3\\rangle \\rightsquigarrow |0\\rangle) = 1$ as planned."
   ]
  },
  {
   "cell_type": "markdown",
   "metadata": {},
   "source": [
    "# Sources \n",
    "\n",
    "<a href=\"https://youtu.be/jxqnzltpDdE?si=OS-Yu4LZyUYo1GhG\"><i>How Quantum Teleportation Really Works</i> - Qiskit</a>\n",
    "\n",
    "<a href=\"https://docs.quantum.ibm.com/api/qiskit/qiskit.circuit.library.UGate\"><i>Qiskit : UGate</i></a>\n",
    "\n",
    "<a href=\"https://en.wikipedia.org/wiki/Quantum_logic_gate\"> Section : <i>Unitary inversion of gates</i> - Wikipedia</a>\n",
    "\n",
    "\n",
    "\n",
    "<a href=\"https://www.sascha-frank.com/Arrow/latex-arrows.html\"><i>LaTeX arrows</i> - Some LaTeX documentation</a>"
   ]
  }
 ],
 "metadata": {
  "kernelspec": {
   "display_name": "quantum-venv",
   "language": "python",
   "name": "python3"
  },
  "language_info": {
   "codemirror_mode": {
    "name": "ipython",
    "version": 3
   },
   "file_extension": ".py",
   "mimetype": "text/x-python",
   "name": "python",
   "nbconvert_exporter": "python",
   "pygments_lexer": "ipython3",
   "version": "3.10.17"
  }
 },
 "nbformat": 4,
 "nbformat_minor": 4
}
