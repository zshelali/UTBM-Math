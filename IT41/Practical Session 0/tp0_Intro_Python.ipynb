{
 "cells": [
  {
   "cell_type": "markdown",
   "metadata": {},
   "source": [
    "# IT41 Practical Session 1  - Introduction to Python\n",
    "\n",
    "---\n",
    "\n",
    "<table style=\"background: white;\">\n",
    "    <tr style=\"background: white;\">\n",
    "        <td> <img src='img/pythonlogo.jpeg'  width=\"220px\" />\n",
    "            <td> <img src=\"\"  width=\"50px\" />\n",
    "        <td> <img src='img/jupyterlogo.jpeg' width=\"120px\" />\n",
    "    </tr>\n",
    "</table>\n",
    "\n",
    "In this practical session you will learn the fundamentals of __Python programming language__ which is one of the simplest languages to learn, but more important than that, one of the most used today by professionals. With this <font color=#F5B041>__Jupyter *Notebook*__</font>, you will progressively learn how to just run your first Hello world program, to play with vectors and matrices for linear algebra, to graphically plot results, and to load and save data with external files. Let's start with the well-known Hello World example.\n",
    "\n",
    "## Hello World\n",
    "In general, when you have to work with Python, you just need a <font color=#F5B041>*file*</font> with the extension <font color=#F5B041>__.py__</font>, so for instance <font color=#F5B041>__helloword.py__</font>, and a __terminal__. To actually run your code, you just have to type in your terminal the following sentence: `python helloworld.py`. For the *hello world* case, the python file <font color=#F5B041>__helloword.py__</font> is the following one: \n",
    "```Python\n",
    "print(\"Hello World!\")\n",
    "```\n",
    "and so if you run this code on your terminal the output would say `Hello World!`. But since we are using <font color=#F5B041>*__Jupyter Notebook__*</font> we don't need the terminal, instead we have __cells__. So let's try it! In the cell (or box) below this text just type `print(\"Hello World!\")` and click on *play* in the command board at the top of the page."
   ]
  },
  {
   "cell_type": "code",
   "execution_count": null,
   "metadata": {},
   "outputs": [],
   "source": []
  },
  {
   "cell_type": "markdown",
   "metadata": {},
   "source": [
    "If you have done well, `Hello World!` should have appeared just below the cell."
   ]
  },
  {
   "cell_type": "markdown",
   "metadata": {},
   "source": [
    "\n",
    "---\n",
    "\n",
    "## Basic computation\n",
    "At this point, you know how to use a cell and how to print some text with the function `print()`. Now, we are going to introduce simple objects but essential: `int`, `float`, `double`. Let us look at the following code:\n",
    "```Python\n",
    "a = 1 # an integer is called int\n",
    "b = 2\n",
    "c = 3. # this is a decimal value called float or double depending on the precision\n",
    "c1 = -c # you can assign to a variable c1 the value of another variable c\n",
    "d = 1.0e-16\n",
    "e = 7.3e14\n",
    "# without adding libraries, we can perform simple operations: +, -, =, /, *, ** \n",
    "```\n",
    "<font color=#3498DB>__Try with the cell below all these operators__</font>"
   ]
  },
  {
   "cell_type": "code",
   "execution_count": null,
   "metadata": {},
   "outputs": [],
   "source": []
  },
  {
   "cell_type": "markdown",
   "metadata": {},
   "source": [
    "Let us now introduce <font color=#F5B041>__loops__</font> and <font color=#F5B041>__statements__</font>! Suppose that we want to compute the following expression:\n",
    "\n",
    "$$\n",
    "S = \\displaystyle{\\sum_{i = 0}^{n} \\frac{3 \\times i}{(i+1)^2} }\n",
    "$$\n",
    "\n",
    "To do so, we can use a loop with the keyword `for` and the following syntax\n",
    "\n",
    "```Python\n",
    "for i in range(...):\n",
    "    expression\n",
    "```\n",
    "<font color=#E74C3C> __Warning__ </font>, be careful about the <font color=#E74C3C> __indentation__</font> with Python! Here, everthing with a *one degree* indentation means that it belongs to the for loop. If you want to go out of the loop, the indentation has to be removed. So, for instance, the following code\n",
    "```Python\n",
    "s = 0\n",
    "for i in range(n):\n",
    "    s = s + i\n",
    "s += 1 # same as s = s + 1\n",
    "```\n",
    "will provide as a result $\\displaystyle{\\frac{(2 + n)\\times (n-1)}{2}}$.\n",
    "\n",
    "<font color=#3498DB>__Try to do this computation for some values of $n$__</font>"
   ]
  },
  {
   "cell_type": "code",
   "execution_count": null,
   "metadata": {},
   "outputs": [],
   "source": []
  },
  {
   "cell_type": "markdown",
   "metadata": {},
   "source": [
    "If you have succed to do this computation, you also should have remark two things:\n",
    "- the result is not an integer.\n",
    "- the loop goes from `0` to `n-1` and not `n`\n",
    "\n",
    "You can also define <font color=#F5B041>__while__</font> loop as follows\n",
    "\n",
    "```Python\n",
    "i = 1\n",
    "while i < 6:\n",
    "  print(i)\n",
    "```\n",
    "\n",
    "You can also exist a <font color=#F5B041>__while__</font> loop with the keyword `break`\n",
    "\n",
    "```Python\n",
    "i = 1\n",
    "while i < 6:\n",
    "  print(i)\n",
    "  if i == 3:\n",
    "    break\n",
    "  i += 1 \n",
    "```\n",
    "\n",
    "<font color=#3498DB>__Repeat the computation of the previous cell with an break if $s>58$__</font>"
   ]
  },
  {
   "cell_type": "code",
   "execution_count": null,
   "metadata": {},
   "outputs": [],
   "source": []
  },
  {
   "cell_type": "markdown",
   "metadata": {},
   "source": [
    "From the basics, we can still get richer structures with the use of <font color=#F5B041>__statements__</font> and <font color=#52BE80>__definitions__</font>. Statements refer to a logical decision such as to check if a condition is true or not by the use of the command `if`, `elif` and `else`. Definitions allow defining functions by the use of the command `def`. Let us have a look at the following example:\n",
    "```Python\n",
    "# The function \n",
    "def myfunction(x):\n",
    "    if( x == 0 ):             # == means equal to\n",
    "        print(\" x = 0\")\n",
    "        return 1\n",
    "    elif( x <= 10 ):\n",
    "        print(\" x is less or equal to 10 \")\n",
    "        return 2\n",
    "    else:\n",
    "        print(\" x is bigger than 10 \")\n",
    "        return 3\n",
    "    \n",
    "# The main program\n",
    "s = 0\n",
    "n = 15\n",
    "for i in range(n):\n",
    "    c = myfunction(i)\n",
    "    print(\"output value is \", c, \" for x = \", i)\n",
    "```\n",
    "\n",
    "<font color=#3498DB>__Try this program in the cell below__</font>\n"
   ]
  },
  {
   "cell_type": "code",
   "execution_count": null,
   "metadata": {},
   "outputs": [],
   "source": []
  },
  {
   "cell_type": "markdown",
   "metadata": {},
   "source": [
    "\n",
    "---\n",
    "\n",
    "## Math library\n",
    "We can now make interesting programs with loops, functions, and statements. However, at this point, our python programming is still less efficient than a simple calculator since no common mathematical functions or mathematical constant (e.g. $\\pi$, $e$) has been defined. To do so, we need to add the <font color=#F5B041>__math library__</font> with the key sentence `from math import *`. In the previous syntax the use of the `*` symbol means that we want to import all the elements from the library. If we just want to import one element, let's say the cos function, we use the key sentence `from math import cos`. For instance, a standard implementation is the following:\n",
    "```Python\n",
    "from math import cos, sin, pi, acos, asin\n",
    "a = cos(pi)\n",
    "b = sin(pi)\n",
    "c = sin(pi)**2 + cos(pi)**2\n",
    "print( \"cos(pi) = \", a, \", sin(pi) = \", b, \", a^2 + b^2 = \", c )\n",
    "print( \"acos(a) = \", acos(a), \", asin(b) = \", asin(b) )\n",
    "# if you don't want to add the library you can just call an element with the syntax math.*, e.g. math.exp\n",
    "```\n",
    "<font color=#3498DB>__Try this program in the cell below__</font>"
   ]
  },
  {
   "cell_type": "code",
   "execution_count": null,
   "metadata": {},
   "outputs": [],
   "source": []
  },
  {
   "cell_type": "markdown",
   "metadata": {},
   "source": [
    "To know all the elements from the math library go to https://docs.python.org/3/library/math.html (documentation). \n",
    "\n",
    "You have now all the elementary aspects of Python programming language! Now to go further, we are going to add the definition of a vector, a matrice, and the linear algebra rules with the so-called <font color=#F5B041>__NumPy__</font> library. In addition, to produce visual results we are going to add the graphical library <font color=#F5B041>__MatPlotLib__</font>."
   ]
  },
  {
   "cell_type": "markdown",
   "metadata": {},
   "source": [
    "\n",
    "---\n",
    "\n",
    "## NumPy, the fundamental package for Scientific Computing.\n",
    "\n",
    "The <font color=#F5B041>__NumPy__</font> library is one of the most important Python libraries for Scientific Computing with Python since it provides an efficient implementation of vectors, matrices, multidimensional arrays, linear algebra, and other numerical computing tools. To load this library the key sentence is the following `import numpy as np` where `np` is just a short name for `numpy`. By doing so, every definition from the library is loaded. Let us look at the way to define a one-dimensional array, a vector\n",
    "```Python\n",
    "import numpy as np\n",
    "n = 10\n",
    "u = np.zeros(n) # create a vector with n components of value 0\n",
    "v = np.array( [1, 2, 3, 4, 5] ) # create a vector by specifying the values\n",
    "# Accessors\n",
    "print( \" v(0) = \", v[0])\n",
    "print( \" v(2) = \", v[2])\n",
    "# Accessor to several cells\n",
    "print( \" v(2:4) = \", v[2:4])\n",
    "v[0] = 3.14\n",
    "v[2:4] = [-1., 0.0] # means to set values to the indexes 2 and 3\n",
    "# print a vector\n",
    "print(\" v = \", v)\n",
    "```"
   ]
  },
  {
   "cell_type": "code",
   "execution_count": null,
   "metadata": {},
   "outputs": [],
   "source": []
  },
  {
   "cell_type": "markdown",
   "metadata": {},
   "source": [
    "<font color=#E74C3C>__Warning__</font>, as you can see there is a special indexing here! The arrays start from <font color=#E74C3C>index 0</font> and end with the <font color=#E74C3C>index n-1</font>.\n",
    "\n",
    "So now we know how to create vectors and to set values to them, let's see what we can do with them:\n",
    "```Python\n",
    "u = np.array( [ 1. ,  0,  3.] )\n",
    "v = np.array( [-1. ,  1, -4.] )\n",
    "# Addition and subtraction\n",
    "print( \"u + v = \", u + v, \", v - u = \", v - u )\n",
    "# Assignment statement\n",
    "w = 2. * u - 3 * v\n",
    "print(\"w = \", w)\n",
    "# Product and dot product\n",
    "U = u * v\n",
    "V = np.dot( u,v )\n",
    "print(\"u * v = \", U, \", u . v = \", V)\n",
    "```"
   ]
  },
  {
   "cell_type": "markdown",
   "metadata": {},
   "source": [
    "### Matrices and multidimensional arrays\n",
    "With <font color=#F5B041>__NumPy__</font>, vectors and matrices are all defined as an `array type` which means that to build a vector or a matrix you have to use the keyword `array`:\n",
    "```Python\n",
    "u = np.array([1,2,3,4])            # this syntax will create a vector of 4 components\n",
    "A = np.array([ [1,2], [3,4]])      # this syntax will create a 2 by 2 matrix\n",
    "B = np.array([[1,2,3],[4,5,6]])    # this syntax will create a 2 by 3 matrix\n",
    "```\n",
    "A common way to work with arrays in scientific computing is to first __initialize__ arrays and __then assign__ the components:\n",
    "```Python\n",
    "n = 3\n",
    "m = 4\n",
    "print(\"step 0 - A is a zeros matrix\")\n",
    "A = np.zeros([n,m])\n",
    "print(\"A = \\n\", A, \"\\n\")\n",
    "\n",
    "print(\"step 1 - set to 1 the first component\")\n",
    "A[0][0] = 1.0\n",
    "print(\"A = \\n\", A, \"\\n\")\n",
    "\n",
    "print(\"step 2 - fill the second row of A\")\n",
    "A[1] = [1,2,3,4]\n",
    "print(\"A = \\n\", A, \"\\n\")\n",
    "\n",
    "print(\"step 3 - fill a part of the last row of A\")\n",
    "A[2][1:4] = [2,3,4]\n",
    "print(A)\n",
    "```\n",
    "<font color=#3498DB>__Try this program in the cell below__</font>"
   ]
  },
  {
   "cell_type": "code",
   "execution_count": null,
   "metadata": {},
   "outputs": [],
   "source": []
  },
  {
   "cell_type": "markdown",
   "metadata": {},
   "source": [
    "Since matrices are based on the same type as vectors, the operators are also the same:\n",
    "```Python\n",
    "A = np.array([ [1, 3], [-1, -3], [0, 1] ])\n",
    "B = np.array([ [-1, -3], [1, 3], [1, 0] ])\n",
    "C = A + B\n",
    "D = 2. * A - 3. * B\n",
    "\n",
    "# WARNING don't forget that * product is not the same as . dot product !\n",
    "print(A * B,\"\\n\")\n",
    "# so you cannot do np.dot(A,B) because of the dimensions!\n",
    "# Instead you do A^t . B\n",
    "print(np.dot(A.transpose(),B))\n",
    "```\n",
    "<font color=#3498DB>__Try this program in the cell below__</font>"
   ]
  },
  {
   "cell_type": "markdown",
   "metadata": {},
   "source": []
  },
  {
   "cell_type": "markdown",
   "metadata": {},
   "source": [
    "Now the last thing to do with the <font color=#F5B041>__NumPy__</font> library is to bring <font color=#F5B041>__Linear Algebra rules__</font> (to solve <font color=#AF7AC5>*linear systems*</font>, compute <font color=#AF7AC5>*matrix determinant*</font>, find <font color=#AF7AC5>*eigen values*</font>, and so on..) with the command line from `numpy.linalg as la` but I let you do this by yourself for later. You can go to the online documentation https://numpy.org/doc/stable/reference/routines.linalg.html."
   ]
  },
  {
   "cell_type": "markdown",
   "metadata": {},
   "source": [
    "\n",
    "---\n",
    "\n",
    "## Matplotlib to draw functions\n",
    "We just do here a very short introduction to <font color=#F5B041>__Matplotlib__</font> which is a large graphical python library. If you will, have a look at the package webpage https://matplotlib.org. To load the library we use the key sentence `import matplotlib.pyplot as plt` where `plt` is the short name to use. For this short introduction, we just try to __plot__ a 1D (x vs y) curve by using the function `plot` (i.e. `plt.plot()`). Let's look at the following code: \n",
    "```Python\n",
    "# First we load the libraries \n",
    "import matplotlib.pyplot as plt\n",
    "import numpy as np\n",
    "from math import cos, pi\n",
    "# ------------------------- #\n",
    "# We compute the cos function over 0 to 4 pi\n",
    "N = 100\n",
    "x = np.zeros(N)\n",
    "y = np.zeros(N)\n",
    "dx = 4. * pi/float(N-1)\n",
    "for i in range(N):\n",
    "    x[i] = i * dx\n",
    "    y[i] = cos(x[i])\n",
    "# Now we can plot the curve:\n",
    "plt.plot(x,y)\n",
    "plt.xlabel('x')\n",
    "plt.ylabel('y')\n",
    "plt.title('cos function')\n",
    "# The last function plt.show() ask to show what you have defined for the plt object\n",
    "plt.show()\n",
    "```"
   ]
  },
  {
   "cell_type": "code",
   "execution_count": 395,
   "metadata": {},
   "outputs": [
    {
     "data": {
      "image/png": "[encoded data removed]",
      "text/plain": [
       "<Figure size 640x480 with 1 Axes>"
      ]
     },
     "metadata": {},
     "output_type": "display_data"
    }
   ],
   "source": [
    "# First we load the libraries \n",
    "import matplotlib.pyplot as plt\n",
    "import numpy as np\n",
    "from math import cos, pi\n",
    "# ------------------------- #\n",
    "# We compute the cos function over 0 to 4 pi\n",
    "N = 100\n",
    "x = np.zeros(N)\n",
    "y = np.zeros(N)\n",
    "dx = 4. * pi/float(N-1)\n",
    "for i in range(N):\n",
    "    x[i] = i * dx\n",
    "    y[i] = cos(x[i])\n",
    "# Now we can plot the curve:\n",
    "plt.plot(x,y)\n",
    "plt.xlabel('x')\n",
    "plt.ylabel('y')\n",
    "plt.title('cos function')\n",
    "# The last function plt.show() ask to show what you have defined for the plt object\n",
    "plt.show()"
   ]
  },
  {
   "cell_type": "markdown",
   "metadata": {},
   "source": [
    "<font color=#3498DB>__Try the above code!__</font>"
   ]
  },
  {
   "cell_type": "markdown",
   "metadata": {},
   "source": [
    "\n",
    "---\n",
    "\n",
    "## Read and write data or text files\n",
    "For different needs, you can have to deal with data files as <font color=#AF7AC5>*an input*</font> or simply to save your results (<font color=#AF7AC5>*an output*</font>). For instance, when dealing with a Gauss Integration method, external tables have to used in order to know the Gauss points and the Gauss weights. This can be done in several ways, but one way is just to store the values in a text (data) file and then to read it when it is needed. Let's a simple example of that.\n",
    "\n",
    "Suppose you have a data file, named `data.dat`, which contains two columns as below\n",
    "```\n",
    "0. 1\n",
    "1. 1.1\n",
    "2. 1.15\n",
    "3. 1.17\n",
    "4. 1.175\n",
    "5. 1.81\n",
    "6. 1.99\n",
    "7. 2.1\n",
    "8. 2.2\n",
    "9. 2.21\n",
    "```\n",
    "To read this file as an input in your code one way is to do as follow\n",
    "```Python\n",
    "file = open(\"data.dat\", \"r\") \n",
    "# the first argument is the name of the file to read,\n",
    "# the second one means that you just want to read it, not to write inside.\n",
    "# Now the file can be read:\n",
    "content = file.read()\n",
    "print( content )\n",
    "```\n",
    "If you look at this <font color=#F5B041>__Jupyter *Notebook* directory__</font>, there is actually a datafile with the name `data.dat`. Which means that since this datafile is in the same directory as our __current__ python program we can try to read it, so let's do it:\n",
    "\n",
    "```Python\n",
    "file = open(\"data.dat\", \"r\") # open the file \n",
    "content = file.read()\n",
    "# you can also try this one:\n",
    "# content = file.readlines()\n",
    "file.close() # always close the file when you are done\n",
    "print( content )\n",
    "```\n",
    "\n",
    "<font color=#3498DB>__Try the above code!__</font>"
   ]
  },
  {
   "cell_type": "code",
   "execution_count": null,
   "metadata": {},
   "outputs": [],
   "source": []
  },
  {
   "cell_type": "markdown",
   "metadata": {},
   "source": [
    "The data file has been read correctly, we can now use the data in our program:\n",
    "```Python\n",
    "file = open(\"data.dat\", \"r\") # open the file \n",
    "content = file.readlines()\n",
    "file.close()\n",
    "\n",
    "# get access to the first line:\n",
    "print(\"First line: \", content[0])\n",
    "# split terms\n",
    "tmp = content[0].split()\n",
    "print(\"Elements of this line:\", tmp, \"\\n\" )\n",
    "\n",
    "# Lets' read the second line\n",
    "print(\"Second line: \", content[1] )\n",
    "tmp = content[1].split()\n",
    "print(\"Elements of this line:\", tmp , \"which are 'char' type (text), not numbers! \")\n",
    "# so we need to convert these chars\n",
    "a = float(tmp[0])\n",
    "b = float(tmp[1])\n",
    "print(a, b, a + b)\n",
    "```\n",
    "\n",
    "<font color=#3498DB>__Try the above code and play with it! It is important to understand what's happening here..__</font>"
   ]
  },
  {
   "cell_type": "code",
   "execution_count": null,
   "metadata": {},
   "outputs": [],
   "source": []
  },
  {
   "cell_type": "markdown",
   "metadata": {},
   "source": [
    "Let's read the whole file and then plot the data:"
   ]
  },
  {
   "cell_type": "code",
   "execution_count": null,
   "metadata": {},
   "outputs": [],
   "source": [
    "import numpy as np\n",
    "\n",
    "# Initialize containers to store the data\n",
    "n = len(content)\n",
    "x = np.zeros(n-1)\n",
    "y = np.zeros(n-1)\n",
    "\n",
    "for i in range(n-1):\n",
    "    tmp = content[i+1].split() # the i+1 is because the file starts with x and y\n",
    "    x[i] = float(tmp[0])\n",
    "    y[i] = float(tmp[1])\n",
    "\n",
    "# we can now plot the data \n",
    "import matplotlib.pyplot as plt\n",
    "plt.plot(x,y,\"*b\") # \"*b\" means I just want blue dot markers\n",
    "plt.show()"
   ]
  },
  {
   "cell_type": "markdown",
   "metadata": {},
   "source": [
    "To now save data we use the same syntax to open a new file but with the option `\"w\"` to specify that we  want to write inside the file. To add some contents we use the command `write()` as follow "
   ]
  },
  {
   "cell_type": "code",
   "execution_count": null,
   "metadata": {},
   "outputs": [],
   "source": [
    "output = open(\"my_outputs.dat\", \"w\")\n",
    "output.write(\"Here are my outputs \\n\") \n",
    "# you need to put \"\\n\"  at the end of a line\n",
    "for i in range(4):\n",
    "    output.write( str(i) + \"\\n\" )\n",
    "output.close()"
   ]
  },
  {
   "cell_type": "markdown",
   "metadata": {},
   "source": [
    "Run the above cell and look in the __Notebook directory__, you should find a file with the name __my_outputs.dat__."
   ]
  },
  {
   "cell_type": "code",
   "execution_count": null,
   "metadata": {},
   "outputs": [],
   "source": []
  },
  {
   "cell_type": "markdown",
   "metadata": {},
   "source": [
    "# Exercises"
   ]
  },
  {
   "cell_type": "markdown",
   "metadata": {},
   "source": [
    "## Exercise 1: Computable Numbers\n",
    "\n",
    "1) Use Ramanunjan's formula to provide an apporximation of $\\pi$\n",
    "$$\\frac{1}{\\pi}=\\dfrac{2\\sqrt{2}}{9801}\\sum_{k=0} ^\\infty \\dfrac{(4k)!(1103+26390k)}{(k!)^4396^{4k}}.$$\n",
    "\n",
    "Remark: Others series can be used to provide approximation of $\\pi$\n",
    "For instance \n",
    "$$\\sum_{n=1}^{\\infty} \\dfrac{1}{n^2}=\\dfrac{\\pi^2}{6}$$\n",
    "\n",
    "and \n",
    "\n",
    "$$\\sum_{n=1} ^{\\infty} \\dfrac{1}{(2n-1)^2}=\\dfrac{\\pi^2}{8}$$\n",
    "\n",
    "Provide two more functions wich compute an approximation of $\\pi$ by using the series of square inverse and the series of odd-square inverse. Compare the efficiency of the three methods by printing the errors for an increasing sequence of of $n$. (Remark you can import `Decimal` from `decimal` to obtain $50$ signigicant digit in the expression of $\\pi$).\n",
    "\n",
    "Here are the first 1000 digits of $\\pi$:\n",
    "\n",
    "p='3.1415926535 8979323846 2643383279 5028841971 6939937510 5820974944 5923078164 0628620899 8628034825 3421170679 8214808651 3282306647 0938446095 5058223172 5359408128 4811174502 8410270193 8521105559 6446229489 5493038196 4428810975 6659334461 2847564823 3786783165 2712019091 4564856692 3460348610 4543266482 1339360726 0249141273 7245870066 0631558817 4881520920 9628292540 9171536436 7892590360 0113305305 4882046652 1384146951 9415116094 3305727036 5759591953 0921861173 8193261179 3105118548 0744623799 6274956735 1885752724 8912279381 8301194912 9833673362 4406566430 8602139494 6395224737 1907021798 6094370277 0539217176 2931767523 8467481846 7669405132 0005681271 4526356082 7785771342 7577896091 7363717872 1468440901 2249534301 4654958537 1050792279 6892589235 4201995611 2129021960 8640344181 5981362977 4771309960 5187072113 4999999837 2978049951 0597317328 1609631859 5024459455 3469083026 4252230825 3344685035 2619311881 7101000313 7838752886 5875332083 8142061717 7669147303 5982534904 2875546873 1159562863 8823537875 9375195778 1857780532 1712268066 1300192787 6611195909 2164201989' \n",
    "\n",
    "2) The Bisection Method: Recall the principle of the Bisection method (https://en.wikipedia.org/wiki/Bisection_method). \n",
    "\n",
    "If $\\alpha\\in I=[a,b]$ is a number which is a solution of $f(x)=0$ and $f$ is stricly monotonous on $[a,b]$ then by calculating the sign of $f(\\frac{a+b}{2})$ you can decide if $\\alpha \\in I_1=[a,\\frac{a+b}{2}]$ or $\\alpha\\in I_1=[\\frac{a+b}{2},b]$. Then by repeating the argument you can improve your approximation of $\\alpha$. \n",
    "\n",
    "2.1) Write a Python code that implements the Bisection method to approximate $\\sqrt{2}$ with $[a,b]=[1,2]$\n",
    "\n",
    "2.2) Let $l=b-a$ the size of your initial search interval, what is the size of your search interval after $n$ iterations ? Improve your initial code such that for a given $\\varepsilon$ the code will return an $\\varepsilon$-approximation of $\\alpha=\\sqrt{2}$\n"
   ]
  },
  {
   "cell_type": "code",
   "execution_count": null,
   "metadata": {},
   "outputs": [],
   "source": []
  },
  {
   "cell_type": "markdown",
   "metadata": {},
   "source": [
    "## Exercise 2: Basic algorithms\n",
    "\n",
    "Implement all algorithms seen in Recitation 1 as well as Euclid's algorithm and run some tests to check on example the validity of your code. Try to furnish a matrix-version of the Fast Powering alortihm. I.e. an algorithm which takes as input a square matrix $A$ and an integer $n$ and returns $A^n$ ?"
   ]
  },
  {
   "cell_type": "code",
   "execution_count": null,
   "metadata": {},
   "outputs": [],
   "source": []
  },
  {
   "cell_type": "markdown",
   "metadata": {},
   "source": [
    "## Exercise 3: Proofs of algorithms\n",
    "\n",
    "With the development of algorithms which interact in everyone everyday-life it is necessary to (try to) garantee their validity. Verification and formal proofs of algorithms/codes is in fact a intensive field of research in the computer science community and software have been developped to help programmer to check/test and certify their codes. The Why3 plateform http://why3.lri.fr/python/ allows us to define invariants that are checked by the program during the execution of the code.\n",
    "\n",
    "For instance here is a Python code for computing $\\sum_{k=0}^n k=\\dfrac{n(n+1)}{2}$ with several assertion that can be checked by Why3.\n",
    "\n",
    "```Python\n",
    "print(\"sum of the first $n$ integers\")\n",
    "\n",
    "n = int(input(\"Provide n : \"))\n",
    "#@ assume n >= 0\n",
    "\n",
    "s = 0\n",
    "k = 0\n",
    "while k <= n:\n",
    "    #@ invariant k <= n+1\n",
    "    #@ invariant s == (k - 1) * k // 2\n",
    "    #@ variant n - k\n",
    "    s = s + k\n",
    "    k = k + 1\n",
    "\n",
    "print(s)\n",
    "#@ assert s == n * (n+1) // 2\n",
    "```\n",
    "\n",
    "Try the examples proposed in http://why3.lri.fr/python/ and check the correctness of the fast power algorithm with Why3\n",
    "\n"
   ]
  },
  {
   "cell_type": "code",
   "execution_count": null,
   "metadata": {},
   "outputs": [],
   "source": []
  }
 ],
 "metadata": {
  "kernelspec": {
   "display_name": "Python 3 (ipykernel)",
   "language": "python",
   "name": "python3"
  },
  "language_info": {
   "codemirror_mode": {
    "name": "ipython",
    "version": 3
   },
   "file_extension": ".py",
   "mimetype": "text/x-python",
   "name": "python",
   "nbconvert_exporter": "python",
   "pygments_lexer": "ipython3",
   "version": "3.13.2"
  }
 },
 "nbformat": 4,
 "nbformat_minor": 4
}
