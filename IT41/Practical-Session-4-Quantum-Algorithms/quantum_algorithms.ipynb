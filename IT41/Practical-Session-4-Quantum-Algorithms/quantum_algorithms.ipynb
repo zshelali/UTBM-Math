{
 "cells": [
  {
   "cell_type": "markdown",
   "metadata": {},
   "source": [
    "# IT41 Practical Session #4  - First Quantum Algorithms\n",
    "\n",
    "---\n",
    "\n",
    "\n",
    "\n",
    "In this last practical session you will run on quantum machine your first quantum algorithms by implementing the algorithms seen in class.\n",
    "\n",
    "<table style=\"background: white;\">\n",
    "    <tr style=\"background: white;\">\n",
    "        <td> <img src='img/quantum_computer.jpeg'  width=\"300px\" />    \n",
    "    </tr>\n",
    "</table>"
   ]
  },
  {
   "cell_type": "markdown",
   "metadata": {},
   "source": [
    "\n",
    "---\n",
    "## Get ready\n",
    "As usual one first  import MPQP and the vizualisation tools\n",
    "```Python\n",
    "from mpqp import* \n",
    "from mpqp.gates import*\n",
    "from mpqp.measures import BasisMeasure\n",
    "```\n",
    "And as well we load the library for the executions:\n",
    "\n",
    "```Python\n",
    "from mpqp.execution import*\n",
    "```\n",
    "   "
   ]
  },
  {
   "cell_type": "code",
   "execution_count": 1,
   "metadata": {},
   "outputs": [],
   "source": [
    "from mpqp import* \n",
    "from mpqp.gates import*\n",
    "from mpqp.measures import BasisMeasure\n",
    "\n",
    "from mpqp.execution import*"
   ]
  },
  {
   "cell_type": "markdown",
   "metadata": {},
   "source": [
    "### Create an oracle\n",
    "\n",
    "We have seen in class that it is always possible to implement a classical function with a quantum computer. Here we are going to implement classical functions usefull to run the Deutsch and Deutsch-Josza algorithm.\n",
    "\n",
    "Consider the following circuit:\n",
    "\n",
    "<table style=\"background: white;\">\n",
    "    <tr style=\"background: white;\">\n",
    "        <td> <img src='img/deutsch_balanced1.svg'  width=\"300px\" />    \n",
    "    </tr>\n",
    "</table>\n",
    "\n",
    "Implement this circuit and check that it corresponds to a unitary gate $U_f$ such that $U_f|x_0x_1x_2>|y>=|x_0x_1x_2>|y\\oplus f(x_0,x_1,x_2)>$ where $f$ is a boolean function that satisfies:\n",
    "\n",
    "\n",
    "|$f(x_0,x_1,x_2)=0$| $f(x_0,x_1,x_2)=1$|\n",
    "|---|---|\n",
    "|$000$ |$111$|\n",
    "|$011$ |$100$|\n",
    "|$101$ |$010$|\n",
    "|$110$ |$001$|"
   ]
  },
  {
   "cell_type": "markdown",
   "metadata": {},
   "source": [
    "### input: $|0000\\rangle$ expected output for $q_3$: $|0\\rangle$"
   ]
  },
  {
   "cell_type": "code",
   "execution_count": 2,
   "metadata": {},
   "outputs": [
    {
     "name": "stdout",
     "output_type": "stream",
     "text": [
      "                       \n",
      "q_0: ──■───────────────\n",
      "       │               \n",
      "q_1: ──┼────■──────────\n",
      "       │    │          \n",
      "q_2: ──┼────┼────■─────\n",
      "     ┌─┴─┐┌─┴─┐┌─┴─┐┌─┐\n",
      "q_3: ┤ X ├┤ X ├┤ X ├┤M├\n",
      "     └───┘└───┘└───┘└╥┘\n",
      "c: 1/════════════════╩═\n",
      "                     0 \n",
      "Result: IBMDevice, AER_SIMULATOR\n",
      "  Counts: [1024, 0]\n",
      "  Probabilities: [1, 0]\n",
      "  Samples:\n",
      "    State: 0000, Index: 0, Count: 1024, Probability: 1\n",
      "  Error: None\n"
     ]
    }
   ],
   "source": [
    "circ = QCircuit([CNOT(0, 3), CNOT(1, 3), CNOT(2, 3), BasisMeasure([3])])\n",
    "\n",
    "result = run(circ, IBMDevice.AER_SIMULATOR)\n",
    "\n",
    "print(circ)\n",
    "print(result)"
   ]
  },
  {
   "cell_type": "markdown",
   "metadata": {},
   "source": [
    "### input: $|0110\\rangle$ expected output for $q_3$: $|0\\rangle$"
   ]
  },
  {
   "cell_type": "code",
   "execution_count": 3,
   "metadata": {},
   "outputs": [
    {
     "name": "stdout",
     "output_type": "stream",
     "text": [
      "                            \n",
      "q_0: ───────■───────────────\n",
      "     ┌───┐  │               \n",
      "q_1: ┤ X ├──┼────■──────────\n",
      "     ├───┤  │    │          \n",
      "q_2: ┤ X ├──┼────┼────■─────\n",
      "     └───┘┌─┴─┐┌─┴─┐┌─┴─┐┌─┐\n",
      "q_3: ─────┤ X ├┤ X ├┤ X ├┤M├\n",
      "          └───┘└───┘└───┘└╥┘\n",
      "c: 1/═════════════════════╩═\n",
      "                          0 \n",
      "Result: IBMDevice, AER_SIMULATOR\n",
      "  Counts: [1024, 0]\n",
      "  Probabilities: [1, 0]\n",
      "  Samples:\n",
      "    State: 0000, Index: 0, Count: 1024, Probability: 1\n",
      "  Error: None\n"
     ]
    }
   ],
   "source": [
    "circ = QCircuit(4)\n",
    "circ.add(X(1))\n",
    "circ.add(X(2))\n",
    "circ.add(CNOT(0, 3))\n",
    "circ.add(CNOT(1, 3))\n",
    "circ.add(CNOT(2, 3))\n",
    "circ.add(BasisMeasure([3]))\n",
    "\n",
    "\n",
    "result = run(circ, IBMDevice.AER_SIMULATOR)\n",
    "\n",
    "print(circ)\n",
    "print(result)"
   ]
  },
  {
   "cell_type": "markdown",
   "metadata": {},
   "source": [
    "### input: $|1110\\rangle$ expected output for $q_3$: $|1\\rangle$"
   ]
  },
  {
   "cell_type": "code",
   "execution_count": 4,
   "metadata": {},
   "outputs": [
    {
     "name": "stdout",
     "output_type": "stream",
     "text": [
      "     ┌───┐                  \n",
      "q_0: ┤ X ├──■───────────────\n",
      "     ├───┤  │               \n",
      "q_1: ┤ X ├──┼────■──────────\n",
      "     ├───┤  │    │          \n",
      "q_2: ┤ X ├──┼────┼────■─────\n",
      "     └───┘┌─┴─┐┌─┴─┐┌─┴─┐┌─┐\n",
      "q_3: ─────┤ X ├┤ X ├┤ X ├┤M├\n",
      "          └───┘└───┘└───┘└╥┘\n",
      "c: 1/═════════════════════╩═\n",
      "                          0 \n",
      "Result: IBMDevice, AER_SIMULATOR\n",
      "  Counts: [0, 1024]\n",
      "  Probabilities: [0, 1]\n",
      "  Samples:\n",
      "    State: 0001, Index: 1, Count: 1024, Probability: 1\n",
      "  Error: None\n"
     ]
    }
   ],
   "source": [
    "circ = QCircuit(4)\n",
    "circ.add(X(0))\n",
    "circ.add(X(1))\n",
    "circ.add(X(2))\n",
    "circ.add(CNOT(0, 3))\n",
    "circ.add(CNOT(1, 3))\n",
    "circ.add(CNOT(2, 3))\n",
    "circ.add(BasisMeasure([3]))\n",
    "\n",
    "\n",
    "result = run(circ, IBMDevice.AER_SIMULATOR)\n",
    "\n",
    "print(circ)\n",
    "print(result)"
   ]
  },
  {
   "cell_type": "markdown",
   "metadata": {},
   "source": [
    "### input: $|0010\\rangle$ expected output for $q_3$: $|1\\rangle$"
   ]
  },
  {
   "cell_type": "code",
   "execution_count": 5,
   "metadata": {},
   "outputs": [
    {
     "name": "stdout",
     "output_type": "stream",
     "text": [
      "                            \n",
      "q_0: ───────■───────────────\n",
      "            │               \n",
      "q_1: ───────┼────■──────────\n",
      "     ┌───┐  │    │          \n",
      "q_2: ┤ X ├──┼────┼────■─────\n",
      "     └───┘┌─┴─┐┌─┴─┐┌─┴─┐┌─┐\n",
      "q_3: ─────┤ X ├┤ X ├┤ X ├┤M├\n",
      "          └───┘└───┘└───┘└╥┘\n",
      "c: 1/═════════════════════╩═\n",
      "                          0 \n",
      "Result: IBMDevice, AER_SIMULATOR\n",
      "  Counts: [0, 1024]\n",
      "  Probabilities: [0, 1]\n",
      "  Samples:\n",
      "    State: 0001, Index: 1, Count: 1024, Probability: 1\n",
      "  Error: None\n"
     ]
    }
   ],
   "source": [
    "circ = QCircuit(4)\n",
    "circ.add(X(2))\n",
    "circ.add(CNOT(0, 3))\n",
    "circ.add(CNOT(1, 3))\n",
    "circ.add(CNOT(2, 3))\n",
    "circ.add(BasisMeasure([3]))\n",
    "\n",
    "\n",
    "result = run(circ, IBMDevice.AER_SIMULATOR)\n",
    "\n",
    "print(circ)\n",
    "print(result)"
   ]
  },
  {
   "cell_type": "markdown",
   "metadata": {},
   "source": [
    "Modify the previous circuit to create an other oracle $U_f$ that is defined by\n",
    "\n",
    "|$f(x_0,x_1,x_2)=0$| $f(x_0,x_1,x_2)=1$|\n",
    "|---|---|\n",
    "|$010$ |$101$|\n",
    "|$011$ |$100$|\n",
    "|$111$ |$000$|\n",
    "|$110$ |$001$|"
   ]
  },
  {
   "cell_type": "markdown",
   "metadata": {},
   "source": [
    "### input: $|0000\\rangle$ expected output for $q_3$: $|1\\rangle$"
   ]
  },
  {
   "cell_type": "code",
   "execution_count": 6,
   "metadata": {},
   "outputs": [
    {
     "name": "stdout",
     "output_type": "stream",
     "text": [
      "                  \n",
      "q_0: ─────────────\n",
      "                  \n",
      "q_1: ───────■─────\n",
      "            │     \n",
      "q_2: ───────┼─────\n",
      "     ┌───┐┌─┴─┐┌─┐\n",
      "q_3: ┤ X ├┤ X ├┤M├\n",
      "     └───┘└───┘└╥┘\n",
      "c: 1/═══════════╩═\n",
      "                0 \n",
      "Result: IBMDevice, AER_SIMULATOR\n",
      "  Counts: [0, 1024]\n",
      "  Probabilities: [0, 1]\n",
      "  Samples:\n",
      "    State: 0001, Index: 1, Count: 1024, Probability: 1\n",
      "  Error: None\n"
     ]
    }
   ],
   "source": [
    "circ2 = QCircuit(4)\n",
    "circ2.add(X(3))\n",
    "circ2.add(CNOT(1, 3))\n",
    "circ2.add(BasisMeasure([3]))\n",
    "\n",
    "result2 = run(circ2, IBMDevice.AER_SIMULATOR)\n",
    "\n",
    "print(circ2)\n",
    "print(result2)"
   ]
  },
  {
   "cell_type": "markdown",
   "metadata": {},
   "source": [
    "### input: $|1110\\rangle$ expected output for $q_3$: $|0\\rangle$"
   ]
  },
  {
   "cell_type": "code",
   "execution_count": 7,
   "metadata": {},
   "outputs": [
    {
     "name": "stdout",
     "output_type": "stream",
     "text": [
      "     ┌───┐        \n",
      "q_0: ┤ X ├────────\n",
      "     ├───┤        \n",
      "q_1: ┤ X ├──■─────\n",
      "     ├───┤  │     \n",
      "q_2: ┤ X ├──┼─────\n",
      "     ├───┤┌─┴─┐┌─┐\n",
      "q_3: ┤ X ├┤ X ├┤M├\n",
      "     └───┘└───┘└╥┘\n",
      "c: 1/═══════════╩═\n",
      "                0 \n",
      "Result: IBMDevice, AER_SIMULATOR\n",
      "  Counts: [1024, 0]\n",
      "  Probabilities: [1, 0]\n",
      "  Samples:\n",
      "    State: 0000, Index: 0, Count: 1024, Probability: 1\n",
      "  Error: None\n"
     ]
    }
   ],
   "source": [
    "circ2 = QCircuit(4)\n",
    "\n",
    "# INPUT\n",
    "circ2.add(X(0))\n",
    "circ2.add(X(1))\n",
    "circ2.add(X(2))\n",
    "\n",
    "\n",
    "# ORACLE\n",
    "circ2.add(X(3))\n",
    "circ2.add(CNOT(1, 3))\n",
    "\n",
    "# Measurement\n",
    "circ2.add(BasisMeasure([3]))\n",
    "result2 = run(circ2, IBMDevice.AER_SIMULATOR)\n",
    "\n",
    "print(circ2)\n",
    "print(result2)"
   ]
  },
  {
   "cell_type": "markdown",
   "metadata": {},
   "source": [
    "What would be an oracle for a constant function $f(x_0,\\dots,x_n)=k$ with $k\\in\\{0,1\\}$ ?"
   ]
  },
  {
   "cell_type": "code",
   "execution_count": 8,
   "metadata": {},
   "outputs": [
    {
     "name": "stdout",
     "output_type": "stream",
     "text": [
      "             \n",
      "q_0: ────────\n",
      "             \n",
      "q_1: ────────\n",
      "             \n",
      "q_2: ────────\n",
      "             \n",
      "q_3: ────────\n",
      "             \n",
      "q_4: ────────\n",
      "             \n",
      "q_5: ────────\n",
      "     ┌───┐┌─┐\n",
      "q_6: ┤ X ├┤M├\n",
      "     └───┘└╥┘\n",
      "c: 1/══════╩═\n",
      "           0 \n",
      "Result: IBMDevice, AER_SIMULATOR\n",
      "  Counts: [0, 1024]\n",
      "  Probabilities: [0, 1]\n",
      "  Samples:\n",
      "    State: 0000001, Index: 1, Count: 1024, Probability: 1\n",
      "  Error: None\n"
     ]
    }
   ],
   "source": [
    "# Let's say n = 5\n",
    "# we want to compute the following constant function f(x0,...,x5) = 1\n",
    "# We have 6 input states\n",
    "# We have a 7th qubit that we will use to measure\n",
    "# No matter what we put as an input in q_0...q_5 : q_6 will be 1\n",
    "\n",
    "const_oracle = QCircuit(7)\n",
    "const_oracle.add(X(6)) # remove this to compute f(x0,...,x5) = 0\n",
    "const_oracle.add(BasisMeasure([6]))\n",
    "\n",
    "\n",
    "const_result = run(const_oracle, IBMDevice.AER_SIMULATOR)\n",
    "\n",
    "print(const_oracle)\n",
    "print(const_result)\n",
    "\n",
    "# For f(x0,...,x5) = 0, we would simply remove the X gate"
   ]
  },
  {
   "cell_type": "markdown",
   "metadata": {},
   "source": [
    "---------"
   ]
  },
  {
   "cell_type": "markdown",
   "metadata": {},
   "source": [
    "## Deutsch-Josza\n",
    "\n",
    "Recall the circuit of the Deutsch-Josza algorithm that generalizes Deutsch algorithm\n",
    "\n",
    "<table style=\"background: white;\">\n",
    "    <tr style=\"background: white;\">\n",
    "        <td> <img src='img/deutsch_steps.png'  width=\"400px\" />    \n",
    "    </tr>\n",
    "</table>\n",
    "\n",
    "Define a constant oracle $U_{f_1}$ and a balanced oracle $U_{f_2}$ of your choice and check on your example the validity of Deutsch-Josza's algorithm."
   ]
  },
  {
   "cell_type": "markdown",
   "metadata": {},
   "source": [
    "classmethod from_other_language(qcircuit)[source]"
   ]
  },
  {
   "cell_type": "markdown",
   "metadata": {},
   "source": [
    "Testing the tensor product: `@`"
   ]
  },
  {
   "cell_type": "code",
   "execution_count": 9,
   "metadata": {},
   "outputs": [
    {
     "name": "stdout",
     "output_type": "stream",
     "text": [
      "   ┌───┐┌───┐\n",
      "q: ┤ H ├┤ X ├\n",
      "   └───┘└───┘\n",
      "----------\n",
      "     ┌───┐┌───┐     \n",
      "q_0: ┤ H ├┤ X ├──■──\n",
      "     └───┘└───┘┌─┴─┐\n",
      "q_1: ──────────┤ X ├\n",
      "               └───┘\n"
     ]
    }
   ],
   "source": [
    "circuit = QCircuit(1)\n",
    "ancilla = QCircuit(1)\n",
    "\n",
    "circuit.add(H(0))\n",
    "circuit.add(X(0))\n",
    "\n",
    "print(circuit)\n",
    "print('----------')\n",
    "circuit @= ancilla\n",
    "circuit.add(CNOT(0, 1))\n",
    "print(circuit)"
   ]
  },
  {
   "cell_type": "code",
   "execution_count": 10,
   "metadata": {},
   "outputs": [],
   "source": [
    "def Uf1(circuit): # constant oracle\n",
    "    return circuit \n",
    "\n",
    "def Uf2(circuit): # balanced oracle (odd number of 1 => 1 else 0 using XOR with CNOTs)\n",
    "    n_qubits = circuit.nb_qubits - 1\n",
    "    for i in range(n_qubits):\n",
    "        circuit.add(CNOT(i, n_qubits))\n",
    "    return circuit\n"
   ]
  },
  {
   "cell_type": "code",
   "execution_count": 11,
   "metadata": {},
   "outputs": [
    {
     "name": "stdout",
     "output_type": "stream",
     "text": [
      "      \n",
      " q_0: \n",
      "      \n",
      " q_1: \n",
      "      \n",
      " q_2: \n",
      "      \n",
      " q_3: \n",
      "      \n",
      " q_4: \n",
      "      \n",
      " q_5: \n",
      "      \n",
      " q_6: \n",
      "      \n",
      " q_7: \n",
      "      \n",
      " q_8: \n",
      "      \n",
      " q_9: \n",
      "      \n",
      "q_10: \n",
      "      \n"
     ]
    },
    {
     "data": {
      "image/png": "[encoded data removed]",
      "text/plain": [
       "<Figure size 974.212x953.167 with 1 Axes>"
      ]
     },
     "execution_count": 11,
     "metadata": {},
     "output_type": "execute_result"
    }
   ],
   "source": [
    "n = 10\n",
    "test = QCircuit(n+1)  \n",
    "\n",
    "Uf1(test).display()\n",
    "print(Uf1(test))\n",
    "Uf2(test).display()"
   ]
  },
  {
   "cell_type": "markdown",
   "metadata": {},
   "source": [
    "#### Deutsch-Jozsa with the constant function `Uf1` with n = 2 and 1 ancilla => Expected output: $|000\\rangle$"
   ]
  },
  {
   "cell_type": "code",
   "execution_count": 12,
   "metadata": {},
   "outputs": [
    {
     "name": "stdout",
     "output_type": "stream",
     "text": [
      "Result: IBMDevice, AER_SIMULATOR\n",
      "  Counts: [1024, 0, 0, 0]\n",
      "  Probabilities: [1, 0, 0, 0]\n",
      "  Samples:\n",
      "    State: 000, Index: 0, Count: 1024, Probability: 1\n",
      "  Error: None\n"
     ]
    },
    {
     "data": {
      "image/png": "[encoded data removed]",
      "text/plain": [
       "<Figure size 454.719x367.889 with 1 Axes>"
      ]
     },
     "execution_count": 12,
     "metadata": {},
     "output_type": "execute_result"
    }
   ],
   "source": [
    "# n = 2\n",
    "d_j = QCircuit(3)\n",
    "d_j.add([H(0), H(1), X(2), H(2)])\n",
    "d_j = Uf1(d_j)\n",
    "d_j.add([H(0), H(1)])\n",
    "d_j.add(BasisMeasure([0, 1]))\n",
    "\n",
    "res = run(d_j, IBMDevice.AER_SIMULATOR)\n",
    "\n",
    "\n",
    "print(res)\n",
    "d_j.display()"
   ]
  },
  {
   "cell_type": "markdown",
   "metadata": {},
   "source": [
    "#### Deutsch-Jozsa with the balanced function `Uf2` with n = 2 and 1 ancilla => Expected output: $ \\neq |000\\rangle$"
   ]
  },
  {
   "cell_type": "code",
   "execution_count": 13,
   "metadata": {},
   "outputs": [
    {
     "name": "stdout",
     "output_type": "stream",
     "text": [
      "Result: IBMDevice, AER_SIMULATOR\n",
      "  Counts: [0, 0, 0, 1024]\n",
      "  Probabilities: [0, 0, 0, 1]\n",
      "  Samples:\n",
      "    State: 011, Index: 3, Count: 1024, Probability: 1\n",
      "  Error: None\n"
     ]
    },
    {
     "data": {
      "image/png": "[encoded data removed]",
      "text/plain": [
       "<Figure size 705.552x367.889 with 1 Axes>"
      ]
     },
     "execution_count": 13,
     "metadata": {},
     "output_type": "execute_result"
    }
   ],
   "source": [
    "n = 2\n",
    "d_j = QCircuit(n+1)\n",
    "d_j.add([H(0), H(1), X(2), H(2)])\n",
    "d_j = Uf2(d_j)\n",
    "d_j.add([H(0), H(1)])\n",
    "d_j.add(BasisMeasure([0, 1]))\n",
    "\n",
    "res = run(d_j, IBMDevice.AER_SIMULATOR)\n",
    "\n",
    "\n",
    "print(res)\n",
    "d_j.display()"
   ]
  },
  {
   "cell_type": "markdown",
   "metadata": {},
   "source": [
    "-------"
   ]
  },
  {
   "cell_type": "markdown",
   "metadata": {},
   "source": [
    "## Bernstein-Vazirani\n",
    "\n",
    "Bernstein-Vazirani algorithm is an algorithm that solve the following problem:\n",
    "Let $u=u_{n-1}\\dots u_0\\in \\{0,1\\}^n$ an unknown $n$-bits string. Suppose you have a classical function $f:\\{0,1\\}^n\\to \\{0,1\\}$ which calculates $f_u(x)=x.u [2]$ where $x.u$ is the usual inner product between $n$-bits strings, i.e. $x=x_{n-1}\\dots x_0$ and $$x.u=x_0u_0+x_1u_1+\\dots+x_{n-1}u_{n-1}$$\n",
    "\n",
    "The goal of Bernstein-Vazirani's algorithm is to find $u$.\n",
    "\n",
    "Recall that classically you can find $u$ by testing $n$ values $x\\in \\{0,1\\}^n$. Bernstein-Vazirani's algorithm solves the problem by using only once the function $f$."
   ]
  },
  {
   "cell_type": "markdown",
   "metadata": {},
   "source": [
    "### Implementing the function $f_u$\n",
    "\n",
    "Show that the following circuit implements on the function $f_u$ with $u=1101$.\n",
    "\n",
    "<table style=\"background: white;\">\n",
    "    <tr style=\"background: white;\">\n",
    "        <td> <img src='img/vaziraniu.png'  width=\"330px\" />    \n",
    "    </tr>\n",
    "</table>\n"
   ]
  },
  {
   "cell_type": "markdown",
   "metadata": {},
   "source": [
    "### Attempt of proof (yes attempt I don't trust it)\n",
    "\n",
    "<table style=\"background: white;\">\n",
    "    <tr style=\"background: white;\">\n",
    "        <td> <img src='img/ali/show_u.png'  alt=\"screenshot proof fu with u=1101\" width=\"600px\" />    \n",
    "    </tr>\n",
    "</table>"
   ]
  },
  {
   "cell_type": "markdown",
   "metadata": {},
   "source": [
    "Implement a circuit that corresponds to the function $f_u$ with $u=1010101$."
   ]
  },
  {
   "cell_type": "code",
   "execution_count": 14,
   "metadata": {},
   "outputs": [
    {
     "data": {
      "image/png": "[encoded data removed]",
      "text/plain": [
       "<Figure size 1123.61x785.944 with 1 Axes>"
      ]
     },
     "execution_count": 14,
     "metadata": {},
     "output_type": "execute_result"
    }
   ],
   "source": [
    "circ = QCircuit([\n",
    "    CNOT(0, 7), \n",
    "    CNOT(2, 7), \n",
    "    CNOT(4, 7), \n",
    "    CNOT(6, 7),\n",
    "    BasisMeasure([0, 1, 2, 3, 4, 5, 6, 7])\n",
    "    ])\n",
    "circ.display()\n",
    "\n",
    "# f_u with u = 1010101"
   ]
  },
  {
   "cell_type": "markdown",
   "metadata": {},
   "source": [
    "Write a Python function that given $u=u_{n-1}\\dots u_0$ will creates the Quantum Circuit implementing the gate $U_{f_u}$. \n",
    "\n",
    "You can use define $u$ as a sting $u='u_{n-1}\\dots u_0'$ and use the Python command: \n",
    "```Python \n",
    "enumerate\n",
    "```"
   ]
  },
  {
   "cell_type": "code",
   "execution_count": 15,
   "metadata": {},
   "outputs": [
    {
     "name": "stdout",
     "output_type": "stream",
     "text": [
      "QCircuit : Size (Qubits, Cbits) = (5, 0), Nb instructions = 3\n",
      "                    \n",
      "q_0: ──■────────────\n",
      "       │            \n",
      "q_1: ──┼────────────\n",
      "       │            \n",
      "q_2: ──┼────■───────\n",
      "       │    │       \n",
      "q_3: ──┼────┼────■──\n",
      "     ┌─┴─┐┌─┴─┐┌─┴─┐\n",
      "q_4: ┤ X ├┤ X ├┤ X ├\n",
      "     └───┘└───┘└───┘\n"
     ]
    }
   ],
   "source": [
    "def Ufu(u):\n",
    "    n = len(u)\n",
    "    circuit = QCircuit(n+1)\n",
    "    for i, char in enumerate(reversed(u)): # reverse to turn u0..un-1 into un-1...u0\n",
    "        if char == \"1\":\n",
    "            circuit.add(CNOT(i, n))\n",
    "    return circuit\n",
    "\n",
    "Ufu(\"1101\").pretty_print()"
   ]
  },
  {
   "cell_type": "markdown",
   "metadata": {},
   "source": [
    "### Bernstein-Vazirani Circuit\n",
    "\n",
    "Here is the circuit of Benrstein-Vazirani's algorithm that allows you to find $u$ by only computing once the function $f_u$.\n",
    "\n",
    "<table style=\"background: white;\">\n",
    "    <tr style=\"background: white;\">\n",
    "        <td> <img src='img/vazirani.png'  width=\"330px\" />    \n",
    "    </tr>\n",
    "</table>\n",
    "\n",
    "\n",
    "Implement Bernstein-Vazirani's algorithm such as, the function $f_u$ is defined by the choice of $u=u_{n-1}\\dots u_0$ made by the user and the circuit and measurementsof the circuit are automatically created from the knowledge of $u$.\n",
    "\n",
    "Test your algorithm on the simulator."
   ]
  },
  {
   "cell_type": "code",
   "execution_count": 16,
   "metadata": {},
   "outputs": [],
   "source": [
    "def bern_vaz(u):\n",
    "    k = len(u)\n",
    "    final_circuit = QCircuit()\n",
    "    before_oracle = QCircuit(k+1)\n",
    "    before_oracle.add(X(k))\n",
    "\n",
    "    for i in range(k+1):\n",
    "        before_oracle.add(H(i))\n",
    "\n",
    "    final_circuit = before_oracle + Ufu(u)\n",
    "\n",
    "    for i in range(k):\n",
    "        final_circuit.add(H(i))\n",
    "\n",
    "    final_circuit.add(BasisMeasure([j for j in range(k)]))\n",
    "\n",
    "    return final_circuit"
   ]
  },
  {
   "cell_type": "markdown",
   "metadata": {},
   "source": [
    "# We choose $u=110101$"
   ]
  },
  {
   "cell_type": "code",
   "execution_count": 17,
   "metadata": {},
   "outputs": [
    {
     "data": {
      "image/png": "[encoded data removed]",
      "text/plain": [
       "<Figure size 1207.22x702.333 with 1 Axes>"
      ]
     },
     "execution_count": 17,
     "metadata": {},
     "output_type": "execute_result"
    }
   ],
   "source": [
    "result = bern_vaz(\"110101\")\n",
    "result.display()"
   ]
  },
  {
   "cell_type": "markdown",
   "metadata": {},
   "source": [
    "## Test 0 on \"perfect\" device"
   ]
  },
  {
   "cell_type": "code",
   "execution_count": 18,
   "metadata": {},
   "outputs": [
    {
     "name": "stdout",
     "output_type": "stream",
     "text": [
      "Result: IBMDevice, AER_SIMULATOR\n",
      "  Counts: [0, 0, 0, 0, 0, 0, 0, 0, 0, 0, 0, 0, 0, 0, 0, 0, 0, 0, 0, 0, 0, 0, 0, 0, 0, 0, 0, 0, 0, 0, 0, 0, 0, 0, 0, 0, 0, 0, 0, 0, 0, 0, 0, 1024, 0, 0, 0, 0, 0, 0, 0, 0, 0, 0, 0, 0, 0, 0, 0, 0, 0, 0, 0, 0]\n",
      "  Probabilities: [0, 0, 0, 0, 0, 0, 0, 0, 0, 0, 0, 0, 0, 0, 0, 0, 0, 0, 0, 0, 0, 0, 0, 0, 0, 0, 0, 0, 0, 0, 0, 0, 0, 0, 0, 0, 0, 0, 0, 0, 0, 0, 0, 1, 0, 0, 0, 0, 0, 0, 0, 0, 0, 0, 0, 0, 0, 0, 0, 0, 0, 0, 0, 0]\n",
      "  Samples:\n",
      "    State: 0101011, Index: 43, Count: 1024, Probability: 1\n",
      "  Error: None\n"
     ]
    }
   ],
   "source": [
    "print(run(result, IBMDevice.AER_SIMULATOR))"
   ]
  },
  {
   "cell_type": "markdown",
   "metadata": {},
   "source": [
    "## Test 1 on a simulated device"
   ]
  },
  {
   "cell_type": "code",
   "execution_count": null,
   "metadata": {},
   "outputs": [],
   "source": [
    "print(run(result, [IBMSimulatedDevice.FakeAlgiers, IBMSimulatedDevice.FakeBrisbane, IBMSimulatedDevice.FakeGeneva]))"
   ]
  },
  {
   "cell_type": "markdown",
   "metadata": {},
   "source": [
    "### Results :\n",
    "\n",
    "- **FakeAlgiers** State: 0101011, Index: 43, Count: 925, Probability: 0.9033203\n",
    "\n",
    "- **FakeBrisbane** State: 0101011, Index: 43, Count: 939, Probability: 0.9169922\n",
    "\n",
    "- **FakeGeneva** State: 0101011, Index: 43, Count: 869, Probability: 0.8486328"
   ]
  },
  {
   "cell_type": "markdown",
   "metadata": {},
   "source": [
    "Test your code on a real quantum device."
   ]
  },
  {
   "cell_type": "code",
   "execution_count": 20,
   "metadata": {},
   "outputs": [
    {
     "name": "stderr",
     "output_type": "stream",
     "text": [
      "/usr/local/lib/python3.10/dist-packages/qiskit_ibm_runtime/qiskit_runtime_service.py:919: UserWarning: IBM Quantum Platform is moving, and this version will be sunset on July 1. To get started on the new platform, read the migration guide at https://docs.quantum.ibm.com/migration-guides/classic-iqp-to-cloud-iqp\n",
      "  warnings.warn(warning_message)\n"
     ]
    }
   ],
   "source": [
    "job_id, job = submit(result, IBMDevice.IBM_LEAST_BUSY)"
   ]
  },
  {
   "cell_type": "code",
   "execution_count": null,
   "metadata": {},
   "outputs": [
    {
     "name": "stdout",
     "output_type": "stream",
     "text": [
      "JobStatus.DONE\n",
      "Result: IBMDevice, IBM_BRISBANE\n",
      "  Counts: [2, 2, 1, 10, 0, 0, 0, 0, 1, 3, 2, 31, 0, 0, 0, 0, 1, 0, 0, 0, 0, 0, 0, 0, 0, 0, 0, 0, 0, 0, 0, 0, 1, 7, 4, 220, 0, 0, 0, 2, 14, 19, 8, 684, 0, 1, 0, 3, 0, 0, 0, 3, 0, 0, 0, 0, 0, 0, 1, 4, 0, 0, 0, 0]\n",
      "  Probabilities: [0.00195, 0.00195, 0.00098, 0.00977, 0, 0, 0, 0, 0.00098, 0.00293, 0.00195, 0.03027, 0, 0, 0, 0, 0.00098, 0, 0, 0, 0, 0, 0, 0, 0, 0, 0, 0, 0, 0, 0, 0, 0.00098, 0.00684, 0.00391, 0.21484, 0, 0, 0, 0.00195, 0.01367, 0.01855, 0.00781, 0.66797, 0, 0.00098, 0, 0.00293, 0, 0, 0, 0.00293, 0, 0, 0, 0, 0, 0, 0.00098, 0.00391, 0, 0, 0, 0]\n",
      "  Samples:\n",
      "    State: 000000, Index: 0, Count: 2, Probability: 0.0019531\n",
      "    State: 000001, Index: 1, Count: 2, Probability: 0.0019531\n",
      "    State: 000010, Index: 2, Count: 1, Probability: 0.0009766\n",
      "    State: 000011, Index: 3, Count: 10, Probability: 0.0097656\n",
      "    State: 001000, Index: 8, Count: 1, Probability: 0.0009766\n",
      "    State: 001001, Index: 9, Count: 3, Probability: 0.0029297\n",
      "    State: 001010, Index: 10, Count: 2, Probability: 0.0019531\n",
      "    State: 001011, Index: 11, Count: 31, Probability: 0.0302734\n",
      "    State: 010000, Index: 16, Count: 1, Probability: 0.0009766\n",
      "    State: 100000, Index: 32, Count: 1, Probability: 0.0009766\n",
      "    State: 100001, Index: 33, Count: 7, Probability: 0.0068359\n",
      "    State: 100010, Index: 34, Count: 4, Probability: 0.0039062\n",
      "    State: 100011, Index: 35, Count: 220, Probability: 0.2148438\n",
      "    State: 100111, Index: 39, Count: 2, Probability: 0.0019531\n",
      "    State: 101000, Index: 40, Count: 14, Probability: 0.0136719\n",
      "    State: 101001, Index: 41, Count: 19, Probability: 0.0185547\n",
      "    State: 101010, Index: 42, Count: 8, Probability: 0.0078125\n",
      "    State: 101011, Index: 43, Count: 684, Probability: 0.6679688\n",
      "    State: 101101, Index: 45, Count: 1, Probability: 0.0009766\n",
      "    State: 101111, Index: 47, Count: 3, Probability: 0.0029297\n",
      "    State: 110011, Index: 51, Count: 3, Probability: 0.0029297\n",
      "    State: 111010, Index: 58, Count: 1, Probability: 0.0009766\n",
      "    State: 111011, Index: 59, Count: 4, Probability: 0.0039062\n",
      "  Error: None\n"
     ]
    }
   ],
   "source": [
    "print(job.status)\n",
    "real_device_result = get_remote_result(job_id, IBMDevice.IBM_BRISBANE) # had do check my IBM Quantum Platform dashboard to find out which one was the \"least busy device\"\n",
    "print(real_device_result)"
   ]
  },
  {
   "cell_type": "markdown",
   "metadata": {},
   "source": [
    "### Results :\n",
    "\n",
    "\n",
    "- **ibm_brisbane** State: 101011, Index: 43, Count: 684, Probability: 0.6679688\n"
   ]
  },
  {
   "cell_type": "markdown",
   "metadata": {},
   "source": [
    "## I overrode the MPQP Result.plot method so that I could make the plot a bit bigger as we couldn't really see the result states very well\n"
   ]
  },
  {
   "cell_type": "code",
   "execution_count": 152,
   "metadata": {},
   "outputs": [],
   "source": [
    "def patched_plot(self, show: bool = True):\n",
    "        \"\"\"Extract sampling info from the result and construct the bar diagram\n",
    "        plot.\n",
    "\n",
    "        Args:\n",
    "            show: ``plt.show()`` is only executed if ``show``, useful to batch\n",
    "                plots.\n",
    "        \"\"\"\n",
    "        from matplotlib import pyplot as plt\n",
    "\n",
    "        if show:\n",
    "            plt.figure(figsize=(30, 10))\n",
    "\n",
    "        x_array, y_array = self._to_display_lists()\n",
    "        x_axis = range(len(x_array))\n",
    "\n",
    "        plt.bar(x_axis, y_array, color='b')\n",
    "        plt.xticks(x_axis, x_array, rotation=-60)\n",
    "        plt.xlabel(\"State\")\n",
    "        plt.ylabel(\"Counts\")\n",
    "        device = self.job.device\n",
    "        # changed the title when I was testing things (differenciate it between many graphs)\n",
    "        plt.title(f\"Overriden by Ali: {self.job.circuit.label}, {type(device).__name__}\\n{device.name}\") \n",
    "\n",
    "        if show:\n",
    "            plt.show()\n",
    "\n",
    "import types\n",
    "real_device_result.plot = types.MethodType(patched_plot, real_device_result)"
   ]
  },
  {
   "cell_type": "code",
   "execution_count": 153,
   "metadata": {},
   "outputs": [
    {
     "data": {
      "image/png": "[encoded data removed]",
      "text/plain": [
       "<Figure size 3000x1000 with 1 Axes>"
      ]
     },
     "metadata": {},
     "output_type": "display_data"
    }
   ],
   "source": [
    "real_device_result.plot()"
   ]
  },
  {
   "cell_type": "markdown",
   "metadata": {},
   "source": [
    "## Conclusion:\n",
    "\n",
    "#### We expected $|101011\\rangle$, and the correct result was found everytime with the highest probabiliy. It corresponds to our chosen $u=110101$ (reversed)\n",
    "\n",
    "-----"
   ]
  },
  {
   "cell_type": "markdown",
   "metadata": {},
   "source": [
    "## Grover's algorithm\n",
    "\n",
    "Grover's algorithm is based on two gates, the oracle and the diffusion gate.\n",
    "We will implement Grover's algorithm for a three-qubit system.\n",
    "\n",
    "\n",
    "### The oracle\n",
    "\n",
    "Consider the following circuit:\n",
    "\n",
    "\n",
    "<table style=\"background: white;\">\n",
    "    <tr style=\"background: white;\">\n",
    "        <td> <img src='img/oracle_3qbt.png'  width=\"330px\" />    \n",
    "    </tr>\n",
    "</table>\n",
    "\n",
    "Check that this oracle signs the element $|111>$.\n",
    "How can you modify if so it signs the element $|101>$ ?"
   ]
  },
  {
   "cell_type": "markdown",
   "metadata": {},
   "source": [
    "### Proof\n",
    "\n",
    "<table style=\"background: white;\">\n",
    "    <tr style=\"background: white;\">\n",
    "        <td> <img src='img/ali/show_sign.jpg'  alt=\"screenshot proof |111> signing\" width=\"600px\" />    \n",
    "    </tr>\n",
    "</table>"
   ]
  },
  {
   "cell_type": "markdown",
   "metadata": {},
   "source": [
    "### In order to sign the $|101\\rangle$ element, we could replace the TOFFOLI gate with a CNOT(0, 2).\n",
    "\n",
    "### But in order to stay in the context of Grover's algorithm, we can apply X gates to $q_1$ before the first Hadamard, and then after the second Hadamard."
   ]
  },
  {
   "cell_type": "markdown",
   "metadata": {},
   "source": [
    "### Proofs\n",
    "\n",
    "<table style=\"background: white;\">\n",
    "    <tr style=\"background: white;\">\n",
    "        <td> <img src='img/ali/proof_101.jpg'  alt=\"screenshot proof |111> signing\" width=\"600px\" />    \n",
    "    </tr>\n",
    "</table>"
   ]
  },
  {
   "cell_type": "markdown",
   "metadata": {},
   "source": [
    "### The diffusion operator\n",
    "\n",
    "Check that the following circuit corresponds to a CCZ gate i.e. a Control-control $Z$ gate:\n",
    "\n",
    "<table style=\"background: white;\">\n",
    "    <tr style=\"background: white;\">\n",
    "        <td> <img src='img/CCZ.png'  width=\"330px\" />    \n",
    "    </tr>\n",
    "</table>\n",
    "\n",
    "The corresponding matrix is \n",
    "\n",
    "$$CCZ=\\begin{pmatrix}\n",
    "1 & 0 & 0 & 0 & 0 & 0 & 0 &0\\\\\n",
    "0 & 1 & 0 & 0 & 0 & 0 & 0 &0\\\\\n",
    "0 & 0 & 1 & 0 & 0 & 0 & 0 &0\\\\\n",
    "0 & 0 & 0 & 1 & 0 & 0 & 0 &0\\\\\n",
    "0 & 0 & 0 & 0 & 1 & 0 & 0 &0\\\\\n",
    "0 & 0 & 0 & 0 & 0 & 1 & 0 &0\\\\\n",
    "0 & 0 & 0 & 0 & 0 & 0 & 1 &0\\\\\n",
    "0 & 0 & 0 & 0 & 0 & 0 & 0 &-1\\\\\n",
    "\\end{pmatrix}$$\n",
    "\n",
    "And thus the circuit\n",
    "\n",
    "<table style=\"background: white;\">\n",
    "    <tr style=\"background: white;\">\n",
    "        <td> <img src='img/diffusion1.png'  width=\"330px\" />    \n",
    "    </tr>\n",
    "</table>\n",
    "\n",
    "corresponds to $-(2|0><0|-I_8)$, i.e.\n",
    "\n",
    "$$CCZ=-\\begin{pmatrix}\n",
    "1 & 0 & 0 & 0 & 0 & 0 & 0 &0\\\\\n",
    "0 & -1 & 0 & 0 & 0 & 0 & 0 &0\\\\\n",
    "0 & 0 & -1 & 0 & 0 & 0 & 0 &0\\\\\n",
    "0 & 0 & 0 & -1 & 0 & 0 & 0 &0\\\\\n",
    "0 & 0 & 0 & 0 & -1 & 0 & 0 &0\\\\\n",
    "0 & 0 & 0 & 0 & 0 & -1 & 0 &0\\\\\n",
    "0 & 0 & 0 & 0 & 0 & 0 & -1 &0\\\\\n",
    "0 & 0 & 0 & 0 & 0 & 0 & 0 &-1\\\\\n",
    "\\end{pmatrix}$$\n",
    "\n",
    "Conclude that the diffusion operator, as explained in the lecture, is given by:\n",
    "\n",
    "<table style=\"background: white;\">\n",
    "    <tr style=\"background: white;\">\n",
    "        <td> <img src='img/diffusion.png'  width=\"330px\" />    \n",
    "    </tr>\n",
    "</table>\n",
    "\n"
   ]
  },
  {
   "cell_type": "markdown",
   "metadata": {},
   "source": [
    "### $CCZ(|111\\rangle) = -|111\\rangle$ -> this is the result we found earlier."
   ]
  },
  {
   "cell_type": "code",
   "execution_count": null,
   "metadata": {},
   "outputs": [],
   "source": []
  },
  {
   "cell_type": "markdown",
   "metadata": {},
   "source": [
    "### Implement Grover algorithm\n",
    "\n",
    "Based on the previous question, implement grover's algorithm for $x_0=|101>$ and run it on the simulator and the IBM Quantum Experience"
   ]
  },
  {
   "cell_type": "code",
   "execution_count": null,
   "metadata": {},
   "outputs": [],
   "source": [
    "\n"
   ]
  },
  {
   "cell_type": "markdown",
   "metadata": {},
   "source": [
    "## Exercises\n",
    "\n",
    "### Exercise 1\n",
    "\n",
    "Write a Qiksit Script that implement Grover's algorithm for a given 3 qubit states $|x_2x_1x_0>$.\n",
    "\n",
    "### Exercise 2\n",
    "\n",
    "How would you implement Grover's algorithm for 4 qubits ?\n"
   ]
  },
  {
   "cell_type": "code",
   "execution_count": null,
   "metadata": {},
   "outputs": [],
   "source": []
  }
 ],
 "metadata": {
  "kernelspec": {
   "display_name": "Python 3 (ipykernel)",
   "language": "python",
   "name": "python3"
  }
 },
 "nbformat": 4,
 "nbformat_minor": 4
}
