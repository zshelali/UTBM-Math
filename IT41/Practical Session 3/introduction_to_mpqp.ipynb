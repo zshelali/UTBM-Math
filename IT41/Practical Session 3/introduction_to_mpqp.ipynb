{
 "cells": [
  {
   "cell_type": "markdown",
   "metadata": {},
   "source": [
    "# IT41 Practical Session #3  - Starting with MPQP\n",
    "\n",
    "---\n",
    "\n",
    "\n",
    "\n",
    "In this practical session you will learn how to do and run your first quantum computation with MPQP\n",
    "\n",
    "<table style=\"background: white;\">\n",
    "    <tr style=\"background: white;\">\n",
    "        <td> <img src='img/mpqp.png'  width=\"440px\" />  \n",
    "        <img src='img/colibri.png'  width=\"250px\" />  \n",
    "    </tr>\n",
    "</table>\n",
    "\n",
    "MPQP is an open-source framework for quantum computing​ based on Python and developped by the French start-up company ColibriTD (https://www.colibritd.com/). It allows to generate quantum circuits, run them on quantum simulators and/or on quantum computers for different provides (IBM, Azure, AWS, IonQ's, etc..).\n",
    "\n",
    "All docs and info regarding the MPQP library can be found here: https://mpqpdoc.colibri-quantum.com/"
   ]
  },
  {
   "cell_type": "markdown",
   "metadata": {},
   "source": [
    "\n",
    "---\n",
    "\n",
    "## Import MPQP, the gates and the measurement tools\n",
    "\n",
    "To run a quantum algorithm in the circuit formalism one needs to create a cricuit, to place gates and choose  measuement option. \n",
    "To do so, one first need to import the following libraries\n",
    "\n",
    "```Python\n",
    "from mpqp import* \n",
    "from mpqp.gates import*\n",
    "from mpqp.measures import BasisMeasure\n",
    "```\n",
    "\n",
    "   "
   ]
  },
  {
   "cell_type": "code",
   "execution_count": null,
   "metadata": {},
   "outputs": [],
   "source": []
  },
  {
   "cell_type": "markdown",
   "metadata": {},
   "source": [
    "A quantum computation is often presented in the circuit formalism\n",
    "\n",
    "<table style=\"background: white;\">\n",
    "    <tr style=\"background: white;\">\n",
    "        <td> <img src='img/circuit.png'  width=\"440px\" />    \n",
    "    </tr>\n",
    "</table>\n",
    "\n",
    "\n",
    "\n",
    "### Create a circuit\n",
    "Thus the first thing to do is to create a circuit that will be made of quatum register (the wires that manipulates qubits) and classical registers (the wire where the values of the measurement will be recorded).\n",
    "\n",
    "To create a circuit we will call the function QCircuit and specify the number of qubits $n$ one wants to use (here let's start with $n=1$):\n",
    "\n",
    "```Python\n",
    "circuit=QCirctuit(1)\n",
    "```"
   ]
  },
  {
   "cell_type": "code",
   "execution_count": null,
   "metadata": {},
   "outputs": [],
   "source": []
  },
  {
   "cell_type": "markdown",
   "metadata": {},
   "source": [
    "### Vizualisation\n",
    "\n",
    "To see our circuit one can use the following command:\n",
    "```Python\n",
    "print(circuit)\n",
    "```\n",
    "\n"
   ]
  },
  {
   "cell_type": "code",
   "execution_count": null,
   "metadata": {},
   "outputs": [],
   "source": []
  },
  {
   "cell_type": "markdown",
   "metadata": {},
   "source": [
    "### Adding gates\n",
    "\n",
    "Quantum operations are implemented by quantum gates, i.e. unitary matrices acting on the quantum state. Here are a couple of quantum gates implemented in MPQP: The Hadamard matrix, the NOT gate, the Z-gate\n",
    "\n",
    "$$H=\\frac{1}{\\sqrt{2}}\\begin{pmatrix}\n",
    "1 & 1\\\\\n",
    "1 & -1\n",
    "\\end{pmatrix},\n",
    "X=\\begin{pmatrix}\n",
    "0 & 1\\\\\n",
    "1 & 0\n",
    "\\end{pmatrix}, Z=\\begin{pmatrix}\n",
    "1 & 0\\\\\n",
    "0 & -1\n",
    "\\end{pmatrix}\n",
    "$$\n",
    "\n",
    "To add a Hadamard gate to the circuit we can use the command:\n",
    "\n",
    "```Python\n",
    "circuit.add(H(0))\n",
    "```\n",
    "Note that the $H(0)$ indicates to which quantum register, the gate will be added to.\n",
    "You can visualize the result by using again\n",
    "\n",
    "```Python\n",
    "print(circuit)\n",
    "```"
   ]
  },
  {
   "cell_type": "code",
   "execution_count": null,
   "metadata": {},
   "outputs": [],
   "source": []
  },
  {
   "cell_type": "markdown",
   "metadata": {},
   "source": [
    "### Adding Measure operators\n",
    "\n",
    "Once we have done as many operation on our circuit one can apply measurement operators. This is achieved by the command\n",
    "```Python\n",
    "circuit.add(BasisMEasure())\n",
    "```\n",
    "\n",
    "In the BasisMeasure command one can specify the qubit to be measured, the basis (standartd by default), the number of shots..."
   ]
  },
  {
   "cell_type": "code",
   "execution_count": null,
   "metadata": {},
   "outputs": [],
   "source": []
  },
  {
   "cell_type": "markdown",
   "metadata": {},
   "source": [
    "## Run the circuit\n",
    "\n",
    "Once your circuit is properly generated you can run it on your own computer using a quantum simulator or on a real quantum device. The MPQP allows one to not only address different types of simulator but also different real hardware backend. One shows here some very simple possibilities offered by the multiplaform approach of MPQP \n",
    "\n",
    "First let's load the execution library\n",
    "\n",
    "```Python\n",
    "from mpqp.execution import*\n",
    "```\n"
   ]
  },
  {
   "cell_type": "code",
   "execution_count": 16,
   "metadata": {},
   "outputs": [],
   "source": []
  },
  {
   "cell_type": "markdown",
   "metadata": {},
   "source": [
    "### Run on AerSimulator (Qiskit Simulator) or Cirq (Google simulator)\n",
    "\n",
    "The command to run a curcuit is \n",
    "```Python \n",
    "run() \n",
    "```\n",
    "\n",
    "The command takes as entry the circuit to execute and the backend.\n",
    "\n",
    "If one wants to run AerSimulator the local simulator of IBM or Cirq for Google, the sequence is\n",
    "\n",
    "```Python\n",
    "run(circuit,IBMDevice.AER_SIMULATOR)\n",
    "```\n",
    "\n",
    "Or\n",
    "\n",
    "\n",
    "```Python\n",
    "run(circuit,GOOGLEDevice.CIRQ_LOCAL_SIMULATOR)\n",
    "```\n",
    "\n",
    "It is also possible to use simulators that are desgined to respond with similar amount of error of the real backend. For instance to use the \"Fake Brisbane' quantum computer one can run:\n",
    "\n",
    "```Python\n",
    "from mpqp.execution.simulated_devices import*\n",
    "result=run(circuit,IBMSimulatedDevice.FakeBrisbane)\n",
    "```\n",
    "\n",
    "It is then possible to run on different devices at once:\n",
    "\n",
    "```Python\n",
    "run(circuit,[IBMDevice.AER_SIMULATOR,GOOGLEDevice.CIRQ_LOCAL_SIMULATOR,IBMSimulatedDevice.FakeBrisbane])\n",
    "```"
   ]
  },
  {
   "cell_type": "code",
   "execution_count": null,
   "metadata": {},
   "outputs": [],
   "source": []
  },
  {
   "cell_type": "markdown",
   "metadata": {},
   "source": [
    "You can also gets the result by just printing the outcomes of the calculation\n",
    "```Python\n",
    "print(result)\n",
    "```"
   ]
  },
  {
   "cell_type": "code",
   "execution_count": null,
   "metadata": {},
   "outputs": [],
   "source": []
  },
  {
   "cell_type": "markdown",
   "metadata": {},
   "source": [
    "###  Run on the IBM Quantum Computer\n",
    "\n",
    "We explain here how to use MPQP to submit jobs on real Quantum hardware. \n",
    "\n",
    "First you should from the terminal run the command \n",
    "\n",
    "```Python\n",
    "setup_connections\n",
    "```\n",
    "\n",
    "Then you just use the run command as we have seen before.\n",
    "\n",
    "```Python\n",
    "result=run(circuit,IBMDevice.IBM_LEAST_BUSY)\n",
    "print(result)\n",
    "```\n",
    "\n",
    "Do not hesitate to check with the tabulation key to have acess to all different types of machines\n"
   ]
  },
  {
   "cell_type": "code",
   "execution_count": null,
   "metadata": {},
   "outputs": [],
   "source": []
  },
  {
   "cell_type": "markdown",
   "metadata": {},
   "source": [
    "\n",
    "## Two qubit circuit and entanglement\n",
    "\n",
    "We have worked with a very simple circuit based on only one qubit manipulation. When one works with several qubit one can apply gates acting on several qubit. A very important gate is the CNOT gate or Controlled NOT gate. When apply on two qubit registers, the gate apply a NOT on the second register if the state of the first qubit is $|1>$.\n",
    "\n",
    "The matrix of this 2-qubit gate is in the standard basis given by\n",
    "$$CNOT=\\begin{pmatrix}\n",
    "1 & 0 &0 &0 \\\\\n",
    "0 & 1 & 0 & 0\\\\\n",
    "0 & 0 & 0  & 1\\\\\n",
    "0 & 0 & 1  & 0\n",
    "\\end{pmatrix}$$\n",
    "\n",
    "The symbol used for this gate is \n",
    "<table style=\"background: white;\">\n",
    "    <tr style=\"background: white;\">\n",
    "        <td> <img src='img/cnot.png'  width=\"150px\" />    \n",
    "    </tr>\n",
    "</table>\n",
    "\n",
    "The mpqp command to apply a CNOT gate should specify first the control qubit and then the target qubit:\n",
    "\n",
    "```Python\n",
    "circuit=QCircuit(2)\n",
    "circuit.add(H(0))\n",
    "circuit.add(CNOT(0,1))\n",
    "```\n",
    "\n",
    "Create the following circuit with MPQP   \n",
    "\n",
    "<table style=\"background: white;\">\n",
    "    <tr style=\"background: white;\">\n",
    "        <td> <img src='img/epr.png'  width=\"440px\" />    \n",
    "    </tr>\n",
    "</table>\n",
    "\n",
    "And measure it in the standard basis with the simulator and a quantum machine."
   ]
  },
  {
   "cell_type": "code",
   "execution_count": null,
   "metadata": {},
   "outputs": [],
   "source": []
  },
  {
   "cell_type": "markdown",
   "metadata": {},
   "source": [
    "MPQP also allows to directly to provide the circuit in a sequential array. For instance the previous circuit can be written as\n",
    "```Python\n",
    "circuit=QCirctuit([H(0),CNOT(0,1),BasisMeasure([0,1],shots=1000)])\n",
    "```"
   ]
  },
  {
   "cell_type": "code",
   "execution_count": null,
   "metadata": {},
   "outputs": [],
   "source": []
  },
  {
   "cell_type": "markdown",
   "metadata": {},
   "source": [
    "## Measuring a state in an alternative basis (optional)\n",
    "\n",
    "The command 'BasisMeasure' only allows to make single qubit measurement in the standard basis $|0>,|1>$. MPQP allows one to create our own basis of measurements\n",
    "\n",
    "However it is also possible to make a measurement in any basis $|u_1>,|u_2>$ by making a rotation before the measurement.\n",
    "\n",
    "Suppose the unitary matrix $U$ is the change of basis from $|u_1>, |u_2>$ to the standard basis $|0>,|1>$. Then applying $U$ and a measurement in the the $Z$-basis is equivalent to making a measurment in the $|u_1>,|u_2>$ basis.\n",
    "\n",
    "For example for a measurement in the $X$-basis of the quantum register $i$ we first apply the rotation given by the Hadamard matrix:\n",
    "```Python\n",
    "circuit.add(H(i),BasisMeasure([i]))\n",
    "```\n",
    "\n",
    "For measuring in the $Y$-basis ($\\frac{|0>+i|1>}{\\sqrt{2}}, \\frac{|0>-i|1>}{\\sqrt{2}}$ the change of basis is obtained by applying the matrices $S^\\dagger=\\begin{pmatrix}\n",
    "1 & 0\\\\\n",
    "0 & e^{-i\\pi/2}\n",
    "\\end{pmatrix}$ and $H$:\n",
    "\n",
    "```Python\n",
    "circuit.add([Rk_dagger(2,i),H(i),BasisMeasure([i])])\n",
    "```\n"
   ]
  },
  {
   "cell_type": "code",
   "execution_count": null,
   "metadata": {},
   "outputs": [],
   "source": []
  },
  {
   "cell_type": "markdown",
   "metadata": {},
   "source": [
    "More generally the rotation gate U allows one to make a change of basis before measurements"
   ]
  },
  {
   "cell_type": "markdown",
   "metadata": {},
   "source": [
    "## Exercises"
   ]
  },
  {
   "cell_type": "markdown",
   "metadata": {},
   "source": [
    "### Exercise 1 (super dense conding)\n",
    "\n",
    "The super dense coding protocol is a communication protocol that allows to transmit two classical bit by sending only one qubit. It was created in Bennet and Wiesner.\n",
    "The following circuit represents the protocol:\n",
    "\n",
    "<table style=\"background: white;\">\n",
    "    <tr style=\"background: white;\">\n",
    "        <td> <img src='img/superdense.png'  width=\"440px\" />    \n",
    "    </tr>\n",
    "</table>\n",
    "\n",
    "Alice and Bob have each of them one qubit of an entangled EPR states\n",
    "$$|EPR>=\\dfrac{1}{\\sqrt{2}}(|00>+|11>)$$\n",
    "Then if Alice wants to send the two classical bits $(b_1,b_2)$ with $b_1, b_2 \\in\\{0,1\\}$, she first applies $X^{b_2}$ then $Z^{b_1}$ to her qubit and send it to Bob (if $b_i=0$ she applies the identity matrix). Then Bob applies the CNOT gate and the Hadamard gate on the first register and measures the two qubit.\n",
    "\n",
    "Implement the protocol and check that in all four cases, Alice is transmetted two classical bits by only sending one qubit."
   ]
  },
  {
   "cell_type": "code",
   "execution_count": null,
   "metadata": {},
   "outputs": [],
   "source": []
  },
  {
   "cell_type": "markdown",
   "metadata": {},
   "source": [
    "### Exercise 2: Quantum Teleportation\n",
    "\n",
    "The quantum teleportation protocol allows to transfer the information (amplitudes) defining a qubit $|\\psi>$ to another qubit by taking advantage of entanglement.\n",
    "\n",
    "Here is the circuit corresponding to the protocol\n",
    "<table style=\"background: white;\">\n",
    "    <tr style=\"background: white;\">\n",
    "        <td> <img src='img/teleportation2.png'  width=\"440px\" />    \n",
    "    </tr>\n",
    "</table>\n",
    "\n",
    "This protocol insures that the qubit $|q_1>$ on the quantum register $0$ will be in the quantum register $2$ ($|q_3>$) at the end of the protocol.\n",
    "\n",
    "\n",
    "1) Prepare the qubit $|q_1>$ such that $|q_1>=|1>$ and check that the measurement of the last qubit gives $1$ with probability $1$.\n",
    "\n",
    "2) Same question with $|q_1>=|+>$. How do you check that the last qubit in in state $|+>$ at the end of the procotol ?\n",
    "\n",
    "3) (more difficult) Can you preparer any state $|q_1>=|\\psi>$ and provide some argument to check that the qubit $|\\psi>$ has been teleported at the end of the procotol ? (you may need to use the $U_3$ gate of qiskit and read the optional section on \"Measurement in an alternative basis\"\n",
    "\n"
   ]
  },
  {
   "cell_type": "code",
   "execution_count": null,
   "metadata": {},
   "outputs": [],
   "source": []
  },
  {
   "cell_type": "markdown",
   "metadata": {},
   "source": [
    "\n"
   ]
  }
 ],
 "metadata": {
  "kernelspec": {
   "display_name": "test-infomaniak-venv",
   "language": "python",
   "name": "python3"
  },
  "language_info": {
   "codemirror_mode": {
    "name": "ipython",
    "version": 3
   },
   "file_extension": ".py",
   "mimetype": "text/x-python",
   "name": "python",
   "nbconvert_exporter": "python",
   "pygments_lexer": "ipython3",
   "version": "3.12.10"
  }
 },
 "nbformat": 4,
 "nbformat_minor": 4
}
