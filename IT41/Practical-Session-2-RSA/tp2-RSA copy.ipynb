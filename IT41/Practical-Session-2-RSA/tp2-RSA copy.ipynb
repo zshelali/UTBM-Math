{
 "cells": [
  {
   "cell_type": "markdown",
   "metadata": {
    "cell_id": "e9f2279835e145da8e30fa6fc9754b8d",
    "deepnote_cell_type": "markdown"
   },
   "source": [
    "# IT41 - Practical Session #2  The RSA Cryptosystem \n",
    "\n",
    "The goal of this session is to discover in practice the RSA cryptosystem (https://en.wikipedia.org/wiki/RSA_(cryptosystem)). This system was discovered in 1977 by Rivest, Shamir et Adelman.\n",
    "\n",
    "<table style=\"background: white;\">\n",
    "    <tr style=\"background: white;\">\n",
    "        <td> <img src='RSA.jpeg'  width=\"440px\" />    \n",
    "    </tr>\n",
    "</table>\n",
    "\n",
    "It is a public-key protocol based on skew-symmetric keys, i.e. the key used for encryption (public key) is not the same as the key used for decryption (private key). It means that everyone is allowed to encode a message, but only the person that have the private key (the recipient) can decypher it:\n",
    "\n",
    "<table style=\"background: white;\">\n",
    "    <tr style=\"background: white;\">\n",
    "        <td> <img src='RSA.png'  width=\"440px\" />    \n",
    "    </tr>\n",
    "</table>\n",
    "\n",
    "The security of this system relies on the fact that is is extremely difficult (in terms of complexity of algorithms) to recover the private key from the public key."
   ]
  },
  {
   "cell_type": "markdown",
   "metadata": {
    "cell_id": "95ede105954a42ac917a4414f7fe5806",
    "deepnote_cell_type": "markdown"
   },
   "source": [
    "### Generation of the keys\n",
    "\n",
    "1- Choose two large prime numbers $p$ and $q$.\n",
    "\n",
    "2- Compute $N=p\\times q$.\n",
    "\n",
    "3- Choose $e$ such that $e$ is prime with $\\phi(N)=(p-1)(q-1)$.\n",
    "\n",
    "4- Compute $d$ such that $de=1$ mod $\\phi(N)$.\n",
    "\n",
    "5- The public key is $(N,e)$, the private key is  $(p,q,d)$\n",
    "\n",
    "### RSA protocol\n",
    "\n",
    "Let's assume Bob wants to send a message $x$ to Alice. Bob has the public key $(N,e)$ and Alice possesses the private key $(p,q,d)$.  The message Bob wants to send is an integer $x<N$.\n",
    "\n",
    "1- Bob encodes his message by computing $y=x^e \\text{ mod }N$.\n",
    "\n",
    "2- Bob sends the encrypted message $y$ to Alice\n",
    "\n",
    "3- Alice decypher the message $y$ by computing $y^d \\text{ mod }N=x^{ed} \\text{ mod } N=x \\text{ mod } N$. \n",
    "\n",
    "### Validity of the protocol\n",
    "\n",
    "The validity of step 3 relies on Fermat little Theorem: If $p$ is prime and $p$ does not divide $a$, then\n",
    "\n",
    "\n",
    "$$ a^{p-1}=1 \\text{ mod } p.$$\n"
   ]
  },
  {
   "cell_type": "markdown",
   "metadata": {
    "cell_id": "3aeb46958aa04e92950a1962e6fc55ab",
    "deepnote_cell_type": "markdown"
   },
   "source": [
    "\n",
    "\n",
    "Using little Fermat's Theorem show that $x^{k(p-1)(q-1)}-1$, for $k\\in \\mathbb{N}^*$, is divisible by $p$ and by $q$. Deduce that $y^d=x \\text{ mod } n$."
   ]
  },
  {
   "cell_type": "markdown",
   "metadata": {
    "cell_id": "9d29df1f2937440490cc18f4ca40f95a",
    "deepnote_cell_type": "markdown"
   },
   "source": [
    "### Proof : if $p$ is prime and $p \\nmid a$, then $a^{p-1} = 1 \\mod p$\n",
    "\n",
    "Let's assume $p \\nmid x$ \n",
    "\n",
    "$ \\iff x^{p-1} = 1 \\mod p $\n",
    "\n",
    "$ \\iff x^{(p-1)k} = 1^{k} \\mod p = 1 \\mod p $\n",
    "\n",
    "$ x^{(p-1)k} - 1 = 1 \\mod{p} -1 = 0$\n",
    "\n",
    "So $p \\mid x^{k(p-1)} - 1$\n",
    "\n",
    "\n",
    "\n",
    "##### Now, for $q$ we have the same reasoning :\n",
    "\n",
    "Let's assume $q \\nmid x$ \n",
    "\n",
    "$ \\iff x^{q-1} = 1 \\mod q $\n",
    "\n",
    "$ \\iff x^{(q-1)k} = 1^{k} \\mod q = 1 \\mod q $\n",
    "\n",
    "$ x^{(q-1)k} - 1 = 1 \\mod{q} -1 = 0$\n",
    "\n",
    "So $q \\mid x^{k(q-1)} - 1$\n",
    "\n",
    "\n",
    "### Conclusion :\n",
    "\n",
    "$p \\mid x^{k(p-1)(q-1)}$\n",
    "\n",
    "$q \\mid x^{k(p-1)(q-1)}$"
   ]
  },
  {
   "cell_type": "markdown",
   "metadata": {
    "cell_id": "2e9b3e1516a94fd8a0cd19fc7d94ff6a",
    "deepnote_cell_type": "markdown"
   },
   "source": [
    "### Proof : $y^d = x \\mod{n}$\n",
    "\n",
    "$y = x^e \\mod{n} $\n",
    "\n",
    "$ d \\cdot e = 1 \\mod{\\phi(N)}$\n",
    "\n",
    "\n",
    "\n",
    "\n",
    "$ \\iff $ there exists a number $k \\in \\mathbb N^*$ such that $d \\cdot e = 1 + k \\cdot \\phi(N)$"
   ]
  },
  {
   "cell_type": "markdown",
   "metadata": {
    "cell_id": "f510e566ebf04d9cab1a315f5f1dc8e3",
    "deepnote_cell_type": "markdown"
   },
   "source": [
    "### First Implementation\n",
    "\n",
    "We now create the keys of the protocol. Choose $p$ and $q$ two prime number and calculate $N=p\\times q$."
   ]
  },
  {
   "cell_type": "code",
   "execution_count": null,
   "metadata": {
    "cell_id": "3bae7411fc1a4fa8942e257ed5978bc1",
    "deepnote_cell_type": "code",
    "execution_context_id": "2ec1e199-e8d8-4aa2-a7e1-66d34de114fb",
    "execution_millis": 1,
    "execution_start": 1746173146604,
    "source_hash": "7633600e"
   },
   "outputs": [],
   "source": [
    "p = 65537\n",
    "q = 3121\n",
    "\n",
    "N = p * q"
   ]
  },
  {
   "cell_type": "markdown",
   "metadata": {
    "cell_id": "767fd1b613a7408c924002d6d70a40b4",
    "deepnote_cell_type": "markdown"
   },
   "source": [
    "To find $e$ prime with $(p-1)(q-1)$, we will use Euclid's algorithm.\n",
    "\n",
    "Code Euclide's algorithm. Find $e$."
   ]
  },
  {
   "cell_type": "code",
   "execution_count": null,
   "metadata": {
    "cell_id": "3c8abcebd5a649a3a1bec25b1f40e47d",
    "deepnote_cell_type": "code",
    "execution_context_id": "2ec1e199-e8d8-4aa2-a7e1-66d34de114fb",
    "execution_millis": 4,
    "execution_start": 1746173146664,
    "source_hash": "48166350"
   },
   "outputs": [
    {
     "name": "stdout",
     "output_type": "stream",
     "text": [
      "GCD(p,q)= 1 \n",
      "\n",
      "GCD(1124,567)= 1 \n",
      "\n",
      "phi(n) :  7\n"
     ]
    }
   ],
   "source": [
    "def euclid(a, b):\n",
    "    while b != 0:\n",
    "        t = b\n",
    "        b = a % b\n",
    "        a = t\n",
    "    return a\n",
    "\n",
    "\n",
    "def find_e(phiN):\n",
    "    for e in range(3, phiN, 2):\n",
    "        if euclid(e,phiN) == 1:\n",
    "            return e\n",
    "    return None\n",
    "\n",
    "print(\"GCD(p,q)=\",euclid(p,q),\"\\n\")\n",
    "print(\"GCD(1124,567)=\",euclid(1124,567),\"\\n\")\n",
    "\n",
    "phiN = (p-1)*(q-1)\n",
    "\n",
    "print(\"phi(n) : \",find_e(phiN))\n",
    "\n",
    "\n",
    "\n",
    "    "
   ]
  },
  {
   "cell_type": "markdown",
   "metadata": {
    "cell_id": "c36d5cd060664bcfa697c7ddcbe35e6c",
    "deepnote_cell_type": "markdown"
   },
   "source": [
    "To find $d$ the inverse of $e$, you will need the extended Euclid's algorithm. Propose a function that compute the inverse of $e$ modulo $\\phi(N)$."
   ]
  },
  {
   "cell_type": "code",
   "execution_count": null,
   "metadata": {
    "cell_id": "b02c0188c49c47f384c6e12c77643dd7",
    "deepnote_cell_type": "code",
    "execution_context_id": "2ec1e199-e8d8-4aa2-a7e1-66d34de114fb",
    "execution_millis": 2,
    "execution_start": 1746173146724,
    "source_hash": "500a7555"
   },
   "outputs": [
    {
     "name": "stdout",
     "output_type": "stream",
     "text": [
      "{'q': 1, 'a': 5, 'b': 3, 'r': 2, 't1': 0, 't2': 1, 't': -1}\n",
      "{'q': 1, 'a': 3, 'b': 2, 'r': 1, 't1': 1, 't2': -1, 't': 2}\n",
      "{'q': 2, 'a': 2, 'b': 1, 'r': 0, 't1': -1, 't2': 2, 't': -5}\n",
      "2 is the inverse of your input.\n",
      "\n",
      "{'q': 21, 'a': 65537, 'b': 3120, 'r': 17, 't1': 0, 't2': 1, 't': -21}\n",
      "{'q': 183, 'a': 3120, 'b': 17, 'r': 9, 't1': 1, 't2': -21, 't': 3844}\n",
      "{'q': 1, 'a': 17, 'b': 9, 'r': 8, 't1': -21, 't2': 3844, 't': -3865}\n",
      "{'q': 1, 'a': 9, 'b': 8, 'r': 1, 't1': 3844, 't2': -3865, 't': 7709}\n",
      "{'q': 8, 'a': 8, 'b': 1, 'r': 0, 't1': -3865, 't2': 7709, 't': -65537}\n",
      "7709 is the inverse of your input.\n",
      "\n",
      "{'q': 21, 'a': 65537, 'b': 3120, 'r': 17, 't1': 0, 't2': 1, 't': -21}\n",
      "{'q': 183, 'a': 3120, 'b': 17, 'r': 9, 't1': 1, 't2': -21, 't': 3844}\n",
      "{'q': 1, 'a': 17, 'b': 9, 'r': 8, 't1': -21, 't2': 3844, 't': -3865}\n",
      "{'q': 1, 'a': 9, 'b': 8, 'r': 1, 't1': 3844, 't2': -3865, 't': 7709}\n",
      "{'q': 8, 'a': 8, 'b': 1, 'r': 0, 't1': -3865, 't2': 7709, 't': -65537}\n",
      "1469\n"
     ]
    }
   ],
   "source": [
    "def extended_euclidV1(a ,b):\n",
    "    mod = b\n",
    "    if b > a :\n",
    "        a,b=b,a\n",
    "    t1 = 0\n",
    "    t2 = 1\n",
    "    r = a % b\n",
    "    q = a // b\n",
    "    t = t1 - q * t2 \n",
    "    print({\"q\":q,\"a\":a,\"b\":b,\"r\":r,\"t1\":t1,\"t2\":t2,\"t\":t})\n",
    "    while b > 0 and r > 0:\n",
    "        a = b\n",
    "        b = r\n",
    "        t1 = t2\n",
    "        t2 = t\n",
    "        q = a // b\n",
    "        r = a % b\n",
    "        t = t1 - q * t2\n",
    "        print({\"q\":q,\"a\":a,\"b\":b,\"r\":r,\"t1\":t1,\"t2\":t2,\"t\":t})\n",
    "    if b != 1 :\n",
    "        raise ValueError(\"After all these calculations, I can assure you that the a and the b you chose are NOT coprimes...\")\n",
    "    return t2 % mod\n",
    "\n",
    "print(extended_euclidV1(3, 5),\"is the inverse of your input.\\n\")\n",
    "# print(extended_euclid(65536,3120),\"is the inverse of your input.\\n\")\n",
    "print(extended_euclidV1(3120, 65537),\"is the inverse of your input.\\n\")\n",
    "print(extended_euclidV1(65537, 3120))\n",
    "\n"
   ]
  },
  {
   "cell_type": "code",
   "execution_count": null,
   "metadata": {
    "cell_id": "9953740741f2461fa8fd90543ff205bb",
    "deepnote_cell_type": "code",
    "execution_context_id": "2ec1e199-e8d8-4aa2-a7e1-66d34de114fb",
    "execution_millis": 0,
    "execution_start": 1746173146784,
    "source_hash": "d090a16f"
   },
   "outputs": [],
   "source": [
    "def extended_euclidV2(a, b):\n",
    "    mod = b  \n",
    "    t1 = 1\n",
    "    t2 = 0 \n",
    "    temp = 0\n",
    "    while b != 0:\n",
    "        q = a // b\n",
    "        temp = b\n",
    "        b = a - q * b\n",
    "        a = temp\n",
    "        temp = t2\n",
    "        t2 = t1 - q * t2\n",
    "        t1 = temp\n",
    "    if a != 1:\n",
    "        print(\"(GCD ≠ 1)\")\n",
    "        return\n",
    "    \n",
    "    return t1 % mod"
   ]
  },
  {
   "cell_type": "code",
   "execution_count": null,
   "metadata": {
    "cell_id": "fbfc308cd0ba4fba932e3cd241d61c0a",
    "deepnote_cell_type": "code",
    "execution_context_id": "2ec1e199-e8d8-4aa2-a7e1-66d34de114fb",
    "execution_millis": 1,
    "execution_start": 1746173146844,
    "source_hash": "7d52dec0"
   },
   "outputs": [
    {
     "name": "stdout",
     "output_type": "stream",
     "text": [
      "2 is the inverse of your input.\n",
      "\n",
      "7709 is the inverse of your input.\n",
      "\n",
      "2753 is the inverse of your input.\n",
      "\n"
     ]
    }
   ],
   "source": [
    "print(extended_euclidV2(3, 5),\"is the inverse of your input.\\n\")\n",
    "# print(extended_euclid(65536,3120),\"is the inverse of your input.\\n\")\n",
    "print(extended_euclidV2(3120, 65537), \"is the inverse of your input.\\n\")\n",
    "print(extended_euclidV2(65537, 3120), \"is the inverse of your input.\\n\")"
   ]
  },
  {
   "cell_type": "markdown",
   "metadata": {
    "cell_id": "d3b7234cde924777abe52df553c52d81",
    "deepnote_cell_type": "markdown"
   },
   "source": [
    "To encode and decode the message, we will need to compute $x^e \\text{ mod }N$ and $y^d \\text{ mod } N$. When $e$ and $d$ are large, the naive exponentiation could be time consuming. In order to avoid that issue we will use the fast powering algorithm (recitaton 2, practical session 1). Implement this algorithm to encode and decode the message."
   ]
  },
  {
   "cell_type": "code",
   "execution_count": null,
   "metadata": {
    "cell_id": "7a756ea15b504fa88ebc0d4daa18697d",
    "deepnote_cell_type": "code",
    "execution_context_id": "2ec1e199-e8d8-4aa2-a7e1-66d34de114fb",
    "execution_millis": 0,
    "execution_start": 1746173146904,
    "source_hash": "fc89573d"
   },
   "outputs": [],
   "source": [
    "def fast_pow(a, n, mod):\n",
    "    A = a % mod\n",
    "    N = n\n",
    "    R = 1\n",
    "    while N > 0 :\n",
    "        if (N%2==0):\n",
    "            A = (A * A) % mod\n",
    "            N = N//2\n",
    "        else:\n",
    "            R = (R * A) % mod\n",
    "            N-=1\n",
    "    return R"
   ]
  },
  {
   "cell_type": "code",
   "execution_count": null,
   "metadata": {
    "cell_id": "db01934514b0475f8e86b22e42454f30",
    "deepnote_cell_type": "code",
    "execution_context_id": "2ec1e199-e8d8-4aa2-a7e1-66d34de114fb",
    "execution_millis": 1,
    "execution_start": 1746173146964,
    "source_hash": "357ee53d"
   },
   "outputs": [
    {
     "data": {
      "text/plain": [
       "256"
      ]
     },
     "execution_count": 7,
     "metadata": {},
     "output_type": "execute_result"
    }
   ],
   "source": [
    "fast_pow(2, 8, 2**8+1)"
   ]
  },
  {
   "cell_type": "code",
   "execution_count": null,
   "metadata": {
    "cell_id": "92ceff8773044fdeb51a274607e770b2",
    "deepnote_cell_type": "code",
    "execution_context_id": "2ec1e199-e8d8-4aa2-a7e1-66d34de114fb",
    "execution_millis": 1,
    "execution_start": 1746173147033,
    "source_hash": "37e7eb47"
   },
   "outputs": [],
   "source": [
    "def encode(p, q, m):\n",
    "    N = p * q\n",
    "    phi = (p-1)*(q-1)\n",
    "    e = find_e(phi)\n",
    "    d = extended_euclidV2(e, phi)\n",
    "    print(\"d = \", d)\n",
    "    return (fast_pow(m, e, N), d, N)\n",
    "    \n",
    "\n",
    "def decode(private_key):\n",
    "    return fast_pow(private_key[0], private_key[1], private_key[2]) \n",
    "\n"
   ]
  },
  {
   "cell_type": "markdown",
   "metadata": {
    "cell_id": "2b6037987c464baa98b00f09fc94546a",
    "deepnote_cell_type": "markdown"
   },
   "source": [
    "Test and illustrate on some examples the validity of the protocol with the functions you wrote."
   ]
  },
  {
   "cell_type": "code",
   "execution_count": null,
   "metadata": {
    "cell_id": "87086ad5158a4495bd485d952056867f",
    "deepnote_cell_type": "code",
    "execution_context_id": "2ec1e199-e8d8-4aa2-a7e1-66d34de114fb",
    "execution_millis": 1,
    "execution_start": 1746173147083,
    "source_hash": "750eebf9"
   },
   "outputs": [
    {
     "name": "stdout",
     "output_type": "stream",
     "text": [
      "Message : 32\n",
      "d =  58420663\n",
      "Encoded message : 201395209\n",
      "Decoded message : 32\n"
     ]
    }
   ],
   "source": [
    "# \"Real world\" example\n",
    "p = 65537\n",
    "q = 3121\n",
    "\n",
    "N = p * q\n",
    "\n",
    "message = 32\n",
    "print(\"Message :\", message)\n",
    "\n",
    "c = encode(p, q, message)\n",
    "print(f\"Encoded message : {c[0]}\")\n",
    "\n",
    "m = decode(c)\n",
    "print(f\"Decoded message : {m}\")"
   ]
  },
  {
   "cell_type": "code",
   "execution_count": null,
   "metadata": {
    "cell_id": "e5a3b6c0d4b546409479c96996979d7a",
    "deepnote_cell_type": "code",
    "execution_context_id": "2ec1e199-e8d8-4aa2-a7e1-66d34de114fb",
    "execution_millis": 1,
    "execution_start": 1746173147134,
    "source_hash": "f818dc5c"
   },
   "outputs": [
    {
     "name": "stdout",
     "output_type": "stream",
     "text": [
      "Public key : (10, 3)\n",
      "Message : 5\n",
      "d =  3\n",
      "Encoded message : 5\n",
      "Decoded message : 5\n"
     ]
    }
   ],
   "source": [
    "# Small values for later (attacks)\n",
    "p = 2\n",
    "q = 5\n",
    "\n",
    "N = p * q\n",
    "e = find_e((p-1)*(q-1))\n",
    "\n",
    "print(f\"Public key : ({N}, {e})\")\n",
    "\n",
    "message = 5\n",
    "print(\"Message :\", message)\n",
    "\n",
    "c = encode(p, q, message)\n",
    "print(f\"Encoded message : {c[0]}\")\n",
    "\n",
    "m = decode(c)\n",
    "print(f\"Decoded message : {m}\")"
   ]
  },
  {
   "cell_type": "markdown",
   "metadata": {
    "cell_id": "db52d2867ebc4dd19d5ffd45134ea98f",
    "deepnote_cell_type": "markdown"
   },
   "source": [
    "### Security of the protocol\n",
    "\n",
    "How can we try to break the protocol base on the public data $(N,e)$ ?\n",
    "\n",
    "#### Factoring\n",
    "\n",
    "If $p$ and $q$ are known, it is easy to find $d$ by computing the inverse of $e \\text{ mod }(p-1)(q-1)$.\n",
    "\n",
    "What is the moste naive way to find $p$ and $q$ from $N$ ?\n",
    "\n",
    "What is the complexity of this method in terms of $k$ the binary length of $N$ ?\n",
    "\n",
    "Implement this naive factoring algorithm and perform numerical test to illustrate the problem."
   ]
  },
  {
   "cell_type": "code",
   "execution_count": null,
   "metadata": {
    "cell_id": "7ef267f30a77424ea5f43e96d1e90f88",
    "deepnote_cell_type": "code",
    "execution_context_id": "2ec1e199-e8d8-4aa2-a7e1-66d34de114fb",
    "execution_millis": 0,
    "execution_start": 1746173147184,
    "source_hash": "9e943f92"
   },
   "outputs": [],
   "source": [
    "def naive_factoring(N):\n",
    "    for i in range(1, N):\n",
    "        for j in range(1, i+1):\n",
    "            if i*j == N:\n",
    "                return i,j"
   ]
  },
  {
   "cell_type": "code",
   "execution_count": null,
   "metadata": {
    "cell_id": "3c58bcb630754219b5a6b055d496d287",
    "deepnote_cell_type": "code",
    "execution_context_id": "2ec1e199-e8d8-4aa2-a7e1-66d34de114fb",
    "execution_millis": 1,
    "execution_start": 1746173147234,
    "source_hash": "f0e8c78a"
   },
   "outputs": [
    {
     "data": {
      "text/plain": [
       "(5, 3)"
      ]
     },
     "execution_count": 12,
     "metadata": {},
     "output_type": "execute_result"
    }
   ],
   "source": [
    "naive_factoring(15)"
   ]
  },
  {
   "cell_type": "markdown",
   "metadata": {
    "cell_id": "608a2347299a4537a5e54836ac5313a5",
    "deepnote_cell_type": "markdown"
   },
   "source": [
    "### Complexity of the naive algorithm (N):\n",
    "\n",
    "\n",
    "* `i` loop : $N-1$\n",
    "\n",
    "Total : \n",
    "\n",
    "$$ \n",
    "T(N) = \\displaystyle\\sum_{k=1}^{N-1}k\n",
    "\n",
    "= \\frac{(N-1)N}{2}\n",
    "\n",
    "= \\frac{N^2 - N}{2} = O(N^2)\n",
    "$$\n",
    "\n",
    "### Complexity of the naive algorithm (k):\n",
    "\n",
    "Let k be the binary length of N.\n",
    "$\\iff N \\leq 2^k $\n",
    "\n",
    "Since $T(N) = O(N^2)$, we have : \n",
    "$$ \n",
    "T(k) = O((2^k)^2) = O(4^k) \n",
    "$$"
   ]
  },
  {
   "cell_type": "code",
   "execution_count": null,
   "metadata": {
    "cell_id": "e3b0f73e903e4746827211475e631c10",
    "deepnote_cell_type": "code",
    "execution_context_id": "2ec1e199-e8d8-4aa2-a7e1-66d34de114fb",
    "execution_millis": 0,
    "execution_start": 1746173147284,
    "source_hash": "d7862ead"
   },
   "outputs": [],
   "source": [
    "from math import sqrt\n",
    "def faster_factoring(N):\n",
    "    for i in range(2, int(sqrt(N))+1):\n",
    "        if N % i == 0 : return (i, N//i)"
   ]
  },
  {
   "cell_type": "code",
   "execution_count": null,
   "metadata": {
    "cell_id": "7376175b5f0e4497b3b8b73ad5e1755f",
    "deepnote_cell_type": "code",
    "execution_context_id": "2ec1e199-e8d8-4aa2-a7e1-66d34de114fb",
    "execution_millis": 1,
    "execution_start": 1746173147334,
    "source_hash": "67b1319d"
   },
   "outputs": [
    {
     "data": {
      "text/plain": [
       "(3, 5)"
      ]
     },
     "execution_count": 14,
     "metadata": {},
     "output_type": "execute_result"
    }
   ],
   "source": [
    "faster_factoring(15)"
   ]
  },
  {
   "cell_type": "markdown",
   "metadata": {
    "cell_id": "0fc7aecdb25d4859888407bb299bda3a",
    "deepnote_cell_type": "markdown"
   },
   "source": [
    "### Complexity of the \"faster\" algorithm (N):\n",
    "\n",
    "We only have one `for` loop that goes from 2 to $\\sqrt{N}$ at most.\n",
    "So we have \n",
    "$$\n",
    "T(N) = O(\\sqrt{N})\n",
    "$$\n",
    "\n",
    "\n",
    "### Complexity of the \"faster\" algorithm (k):\n",
    "Let k be the binary length of N.\n",
    "\n",
    "Since $T(N) = O(\\sqrt{N})$, we have :\n",
    "\n",
    "$$\n",
    "T(k) = O(\\sqrt{2^k}) = O((2^k)^\\frac{1}{2}) = O(2^{k/2})\n",
    "$$\n"
   ]
  },
  {
   "cell_type": "markdown",
   "metadata": {
    "cell_id": "cb0d35845ef649dc82d3883d43a116ff",
    "deepnote_cell_type": "markdown"
   },
   "source": [
    "#### Logarithm\n",
    "\n",
    "\n",
    "Another possible attack is as follows. The attacker creates a message $y = x^e \\mod N$ using the public key and calculates $y^k$, varying $k$ until finding the value such that $y^k = x \\mod N$.\n",
    "\n",
    "What is the complexity of this approach?\n",
    "\n",
    "Implement this algorithm and illustrate it with numerical tests."
   ]
  },
  {
   "cell_type": "code",
   "execution_count": null,
   "metadata": {
    "cell_id": "49bfefcfc28c4a678434e426fed377b7",
    "deepnote_cell_type": "code",
    "execution_context_id": "2ec1e199-e8d8-4aa2-a7e1-66d34de114fb",
    "execution_millis": 0,
    "execution_start": 1746173147394,
    "source_hash": "be1fa6d8"
   },
   "outputs": [],
   "source": [
    "def logarithm_attack(N, e, x):\n",
    "    k = 1\n",
    "    y = fast_pow(x, e, N)\n",
    "    while fast_pow(y, k, N) != x % N:\n",
    "        k += 1\n",
    "    return k"
   ]
  },
  {
   "cell_type": "code",
   "execution_count": null,
   "metadata": {
    "cell_id": "f3ac9c314a9b4bf4abaa873225ce11bc",
    "deepnote_cell_type": "code",
    "execution_context_id": "2ec1e199-e8d8-4aa2-a7e1-66d34de114fb",
    "execution_millis": 3194,
    "execution_start": 1746173147464,
    "source_hash": "2b3b7f3f"
   },
   "outputs": [
    {
     "name": "stdout",
     "output_type": "stream",
     "text": [
      "target_d = 2165\n",
      "correct d found at 0 : 2165\n"
     ]
    },
    {
     "data": {
      "text/plain": [
       "2165"
      ]
     },
     "execution_count": 16,
     "metadata": {},
     "output_type": "execute_result"
    }
   ],
   "source": [
    "import random\n",
    "\n",
    "\n",
    "## private key\n",
    "p = 83\n",
    "q = 67\n",
    "\n",
    "## public key \n",
    "N = p * q\n",
    "phiN = (p-1)*(q-1)\n",
    "e = find_e(phiN)\n",
    "\n",
    "\n",
    "target_d = extended_euclidV2(e, phiN)\n",
    "print(f\"target_d = {target_d}\")\n",
    "test_range = 1e3\n",
    "\n",
    "possible_d = []\n",
    "test_messages = []\n",
    "\n",
    "## generating random messages, each message is coprime with N\n",
    "while test_range > 0:\n",
    "    r = random.randint(2, 1000)\n",
    "    if euclid(N, r) == 1 and N%r !=0:\n",
    "        test_messages.append(r)\n",
    "        test_range -= 1\n",
    "\n",
    "## finding the d candidates for each message\n",
    "for msg in test_messages:\n",
    "    possible_d.append(logarithm_attack(N, e, msg))\n",
    "\n",
    "## testing if the target_d was found\n",
    "def find_target_d(possible_d, target_d):\n",
    "    for index in range(len(possible_d)):\n",
    "        if possible_d[index] == target_d:\n",
    "            print(f\"correct d found at {index} : {possible_d[index]}\")\n",
    "            return possible_d[index]\n",
    "\n",
    "find_target_d(possible_d, target_d)\n"
   ]
  },
  {
   "cell_type": "markdown",
   "metadata": {
    "cell_id": "0470e3502b764061a81b26ad82b0f2f0",
    "deepnote_cell_type": "markdown"
   },
   "source": [
    "#### Conclusion: \n",
    "\n",
    "We need to choose a good message `x`, otherwise we won't get the correct `d`."
   ]
  },
  {
   "cell_type": "markdown",
   "metadata": {
    "cell_id": "9b11121567f045b593dc4df14a0cb64d",
    "deepnote_cell_type": "markdown"
   },
   "source": [
    "### Complexity analysis:\n",
    "\n",
    "The `while` loop iterates until we find the correct $d$.\n",
    "\n",
    "For each iteration, we perform a `fast_pow` which has a complexity of $O(k)$, where $k$ is the binary length of $N$.\n",
    "\n",
    "So $T(k) = O(d \\cdot k)$\n",
    "\n",
    "Since we know that $d = e^{-1} \\mod \\phi(N) \\iff d \\leq \\phi(N) = O(N) = O(2^k)$ :\n",
    "\n",
    "If we assemble both, we get :\n",
    "\n",
    "$$\n",
    "T(k) = O(2^k \\cdot k) \n",
    "$$\n",
    "\n",
    "\n"
   ]
  },
  {
   "cell_type": "markdown",
   "metadata": {
    "cell_id": "10bd1f8dde1d4f7e81548e6030ffbdf5",
    "deepnote_cell_type": "markdown"
   },
   "source": [
    "### Primality test\n",
    "\n",
    "For the RSA protocol to be efficient, large prime numbers $p$ and $q$ must be chosen. However, how can we know if a randomly chosen number is prime? We have seen that searching for its factorization is not efficient from an algorithmic point of view. Instead, we will use a heuristic.\n",
    "\n",
    "Let $\\pi(n)$ be the number of prime numbers less than or equal to $n$. What is the value of $\\pi(10)$?\n",
    "\n"
   ]
  },
  {
   "cell_type": "markdown",
   "metadata": {
    "cell_id": "01b841027ed948998452aec03f3c159e",
    "deepnote_cell_type": "markdown"
   },
   "source": [
    "**Answer** :\n",
    "\n",
    "The prime numbers less than or equal to 10 are : 2, 3, 5, 7\n",
    "\n",
    "Thus $\\pi(10) = 4$"
   ]
  },
  {
   "cell_type": "markdown",
   "metadata": {
    "cell_id": "c17f83e719194105b7a5db8e430a79d0",
    "deepnote_cell_type": "markdown"
   },
   "source": [
    "The Prime Number Theorem is the following mathematical result:\n",
    "\n",
    "\n",
    "$$\\lim_{n\\to \\infty} \\frac{\\pi(n)}{n/\\ln(n)}=1.$$\n",
    "\n",
    "For large $n$, what is the probability that a randomly chosen number $n$ less than $n$ is prime?\n",
    "\n",
    "If we want to generate a 512-bit prime number, how many numbers must we test to have a good chance of finding a prime?"
   ]
  },
  {
   "cell_type": "markdown",
   "metadata": {
    "cell_id": "2d21045f1ada4ccf9ad50724b9d9ab08",
    "deepnote_cell_type": "markdown"
   },
   "source": [
    "**Answer** :\n",
    "\n",
    "$\\lim_{n\\to \\infty} \\frac{\\pi(n)}{n/\\ln(n)}=1. $\n",
    "\n",
    "$\\iff \\pi(n) \\approx \\frac{n}{\\ln(n)}$\n",
    "\n",
    "$\\iff \\frac{\\pi(n)}{n} \\approx \\frac{1}{\\ln(n)}$\n",
    "\n",
    "So the probability of $n$ being prime is $\\frac{1}{\\ln(n)}$\n",
    "\n",
    "---\n",
    "\n",
    "A number of binary length 512 would be at the worst case : $2^{512}$\n",
    "\n",
    "We can compute it by doing : $\\frac{1}{\\ln(2^{512})} \\approx 354.891 \\approx 355$\n",
    "\n",
    "We will need approximativeley 355 tests to have a chance of finding a prime."
   ]
  },
  {
   "cell_type": "markdown",
   "metadata": {
    "cell_id": "7527fa7c43b049a79a184b8c23b5a9b4",
    "deepnote_cell_type": "markdown"
   },
   "source": [
    "According to Fermat's Little Theorem, what can we say about $n$ if $a^{n-1} \\neq 1 \\mod n$?\n",
    "\n",
    "A number $a$ is called a pseudo-prime if it is not prime and satisfies $a^{n-1} = 1 \\mod n$. The number of pseudo-primes is \"rare.\" For example, for $a=2$, there exist only $22$ pseudo-prime numbers less than or equal to $n=10000$. If we choose $k \\leq 10000$ such that $a^{k-1} = 1 \\mod k$, what is the probability that $k$ is prime?\n"
   ]
  },
  {
   "cell_type": "markdown",
   "metadata": {
    "cell_id": "eacdea19fffc474d8976fc83ae2dadb3",
    "deepnote_cell_type": "markdown"
   },
   "source": [
    "* $a^{n-1} \\neq 1 \\mod{n} $  means $n$ isn't prime (the contrapositive of Fermat's Little theorem)."
   ]
  },
  {
   "cell_type": "markdown",
   "metadata": {
    "cell_id": "56e536002a75466ca7d631a07cebdad9",
    "deepnote_cell_type": "markdown"
   },
   "source": [
    "Deduce and implement an algorithm that allows to test and insure with a high probability that a given number is prime."
   ]
  },
  {
   "cell_type": "code",
   "execution_count": null,
   "metadata": {
    "cell_id": "362c6da5070c46a189e40afb414447e5",
    "deepnote_cell_type": "code",
    "execution_context_id": "2ec1e199-e8d8-4aa2-a7e1-66d34de114fb",
    "execution_millis": 1,
    "execution_start": 1746173150723,
    "source_hash": "8814bf2d"
   },
   "outputs": [],
   "source": [
    "def is_prime(n, k=30):\n",
    "    \"\"\"\n",
    "    Testing primality for k random numbers (default k=30) \"a\" \n",
    "    such that 2 < a < n-1, and a,n coprime.\n",
    "    Returns False if a^(n-1) != 1 mod n, else returns True.\n",
    "    The result has a high probability of being correct, but it's not guaranteed.\n",
    "    \"\"\"\n",
    "    for i in range(k):\n",
    "        a = random.randint(2, n-1)\n",
    "        if euclid(a, n) == 1:\n",
    "            if fast_pow(a, n-1, n) != 1:\n",
    "                return False\n",
    "    return True\n",
    "    "
   ]
  },
  {
   "cell_type": "code",
   "execution_count": null,
   "metadata": {
    "cell_id": "778d8c71780845cfbec019e3a39af1cf",
    "deepnote_cell_type": "code",
    "execution_context_id": "2ec1e199-e8d8-4aa2-a7e1-66d34de114fb",
    "execution_millis": 1,
    "execution_start": 1746173150774,
    "source_hash": "277cb3a7"
   },
   "outputs": [
    {
     "name": "stdout",
     "output_type": "stream",
     "text": [
      "701 is prime : True\n",
      "709 is prime : True\n",
      "719 is prime : True\n",
      "727 is prime : True\n",
      "941 is prime : True\n",
      "947 is prime : True\n",
      "953 is prime : True\n",
      "5 is prime : True\n",
      "17 is prime : True\n",
      "19 is prime : True\n",
      "23 is prime : True\n",
      "29 is prime : True\n",
      "31 is prime : True\n",
      "37 is prime : True\n",
      "983 is prime : True\n",
      "991 is prime : True\n",
      "997 is prime : True\n"
     ]
    }
   ],
   "source": [
    "# Let's test this for a list of known prime numbers :\n",
    "\n",
    "primes = [701, 709, 719, 727, 941, 947, 953, 5, 17, 19, 23, 29, 31, 37, 983, 991, 997]\n",
    "\n",
    "for prime in primes:\n",
    "    print(f\"{prime} is prime : {is_prime(prime)}\")"
   ]
  },
  {
   "cell_type": "code",
   "execution_count": null,
   "metadata": {
    "cell_id": "6585fd9be1724b29b9583845514324e6",
    "deepnote_cell_type": "code",
    "execution_context_id": "2ec1e199-e8d8-4aa2-a7e1-66d34de114fb",
    "execution_millis": 0,
    "execution_start": 1746173150824,
    "source_hash": "13cddbf0"
   },
   "outputs": [
    {
     "name": "stdout",
     "output_type": "stream",
     "text": [
      "1402 is prime : False\n",
      "1418 is prime : False\n",
      "1438 is prime : False\n",
      "1454 is prime : False\n",
      "1882 is prime : False\n",
      "1894 is prime : False\n",
      "1906 is prime : False\n",
      "10 is prime : False\n",
      "34 is prime : False\n",
      "38 is prime : False\n",
      "46 is prime : False\n",
      "58 is prime : False\n",
      "62 is prime : False\n",
      "74 is prime : False\n",
      "1966 is prime : False\n",
      "1982 is prime : False\n",
      "1994 is prime : False\n"
     ]
    }
   ],
   "source": [
    "# Now, let's test the algorithm for a list of known non-prime numbers :\n",
    "not_primes = [2*x for x in primes]\n",
    "\n",
    "for not_prime in not_primes:\n",
    "    print(f\"{not_prime} is prime : {is_prime(not_prime)}\")"
   ]
  },
  {
   "cell_type": "markdown",
   "metadata": {
    "cell_id": "ae5225451dc34ebeba417ea20013a56f",
    "deepnote_cell_type": "markdown"
   },
   "source": [
    "Use this primality test to generate large prime number and propose a new implementation of the RSA protocol with large prime number. Illustrate this new protocol with examples and numerical test."
   ]
  },
  {
   "cell_type": "code",
   "execution_count": null,
   "metadata": {
    "cell_id": "0aebecacd50544459a6ade1d99dfa3d8",
    "deepnote_cell_type": "code",
    "execution_context_id": "2ec1e199-e8d8-4aa2-a7e1-66d34de114fb",
    "execution_millis": 165,
    "execution_start": 1746173150917,
    "source_hash": "72baf02f"
   },
   "outputs": [
    {
     "data": {
      "text/plain": [
       "6772252321797134358982215985734734925214360980364921973154839919307437778828457202975716552387066278346937040166788881292220870069088165020210967260766533"
      ]
     },
     "execution_count": 20,
     "metadata": {},
     "output_type": "execute_result"
    }
   ],
   "source": [
    "def large_prime(bin_length = 512):\n",
    "    \"\"\"\n",
    "    Generates a large prime number.\n",
    "    Optional parameter `bin_length` defaults to 512.\n",
    "    \"\"\"\n",
    "    p = random.randint(2**(bin_length-1), 2**bin_length)\n",
    "    while not is_prime(p):\n",
    "        p = random.randint(2**(bin_length-1), 2**bin_length)\n",
    "    return p\n",
    "\n",
    "p = large_prime()\n",
    "\n",
    "p\n"
   ]
  },
  {
   "cell_type": "code",
   "execution_count": null,
   "metadata": {
    "cell_id": "822be313bf394821a19091a5e760c09d",
    "deepnote_cell_type": "code",
    "execution_context_id": "2ec1e199-e8d8-4aa2-a7e1-66d34de114fb",
    "execution_millis": 1,
    "execution_start": 1746173151134,
    "source_hash": "41a7cd15"
   },
   "outputs": [
    {
     "name": "stdout",
     "output_type": "stream",
     "text": [
      "binary size of p : 512\n"
     ]
    }
   ],
   "source": [
    "import math\n",
    "def binary_size(n):\n",
    "    return math.floor(math.log(n, 2))+1\n",
    "\n",
    "print(f\"binary size of p : {binary_size(p)}\")"
   ]
  },
  {
   "cell_type": "markdown",
   "metadata": {
    "cell_id": "b348ef6104ff474d9528583faab38d8c",
    "deepnote_cell_type": "markdown"
   },
   "source": [
    "# Final RSA protocol implementation\n",
    "\n",
    "Bob sends a message to Alice."
   ]
  },
  {
   "cell_type": "code",
   "execution_count": null,
   "metadata": {
    "cell_id": "dabb9a8ba5fe4e3f87cb7e3a9f2f1fe3",
    "deepnote_cell_type": "code",
    "execution_context_id": "2ec1e199-e8d8-4aa2-a7e1-66d34de114fb",
    "execution_millis": 2,
    "execution_start": 1746175220286,
    "source_hash": "8e8bd1cb"
   },
   "outputs": [],
   "source": [
    "def gen_keys(bin_length = 512):\n",
    "    \"\"\"\n",
    "    Generates public and private keys for the RSA cryptosystem.\n",
    "    Optional parameter `bin_length` defaults to 512.\n",
    "\n",
    "    Returns a public key tuple : (N, e),\n",
    "    And a private key tuple : (p, q, d).\n",
    "    \"\"\"\n",
    "    p, q = large_prime(bin_length), large_prime(bin_length)\n",
    "    N = p * q\n",
    "    phiN = (p - 1) * (q - 1)\n",
    "    e = find_e(phiN)\n",
    "    d = extended_euclidV2(e, phiN)\n",
    "    public_key = (N, e)\n",
    "    private_key = (p, q, d)\n",
    "    return public_key, private_key\n",
    "\n",
    "def publish(key):\n",
    "    \"\"\"\n",
    "    Simulates the publishing of the public key.\n",
    "    \"\"\"\n",
    "    N, e = key[0]\n",
    "    print(f\"Publishing public key : ({N, e})\\n\")\n",
    "    return N, e\n",
    "\n",
    "def encrypt(public_key, message):\n",
    "    \"\"\"\n",
    "    message**e mod N.\n",
    "    \"\"\"\n",
    "    return fast_pow(message, public_key[1], public_key[0])\n",
    "\n",
    "def send_message(message):\n",
    "    \"\"\"\n",
    "    Simulates the sending of the message.\n",
    "    \"\"\"\n",
    "    print(f\"Sending message : {message}\\n\")\n",
    "    return message\n",
    "\n",
    "def decrypt(private_key, message):\n",
    "    \"\"\"\n",
    "    message**d mod n\n",
    "    \"\"\"\n",
    "    return fast_pow(message, private_key[2], private_key[0] * private_key[1]) \n",
    "\n",
    "\n",
    "def text_to_int(text):\n",
    "    return int.from_bytes(text.encode('utf-8'), 'big')\n",
    "\n",
    "\n",
    "def int_to_text(number):\n",
    "    return number.to_bytes((number.bit_length() + 7) // 8, 'big').decode('utf-8')\n"
   ]
  },
  {
   "cell_type": "code",
   "execution_count": null,
   "metadata": {
    "cell_id": "0ab9a5dcf7d745c89c7ff36b41a29b11",
    "deepnote_cell_type": "code",
    "execution_context_id": "2ec1e199-e8d8-4aa2-a7e1-66d34de114fb",
    "execution_millis": 693,
    "execution_start": 1746175282393,
    "source_hash": "4e10fba9"
   },
   "outputs": [
    {
     "name": "stdout",
     "output_type": "stream",
     "text": [
      "Publishing public key : ((63912380206153204042687024380604457832489759072323051979659533271662119167413696719210071407725868640871732895281531880848169767458909909518402989875578575327339689715760147560152229039051865181262683305251897758326342992652180326435923105765725024056675048778248704135183625216831007703938260923442031101253, 3))\n",
      "\n",
      "Sending message : 3165962034132582593069230960599074487607158690602319419894761538448490133410543391854649361746619489\n",
      "\n",
      "Decrypted message : Hello, Alice !\n"
     ]
    }
   ],
   "source": [
    "# Alice's machine computes the public and private keys. She keeps the private and publishes the public key.\n",
    "\n",
    "keys = gen_keys() ## gen\n",
    "private_key = keys[1] ## stores the private key\n",
    "public_key = publish(keys) ## publishes the public key\n",
    "\n",
    "# Bob wants to send the following message to Alice : \n",
    "m = \"Hello, Alice !\"\n",
    "message = text_to_int(m) #converting the message to an integer\n",
    "\n",
    "# Bob then encrypts the message using Alice's public keys :\n",
    "encrypted_message = encrypt(public_key, message)\n",
    "\n",
    "# Bob then sends the encrypted message to Alice :\n",
    "sent_message = send_message(encrypted_message)\n",
    "\n",
    "# Alice receives the message and decrypts it using her private key :\n",
    "decrypted_message = int_to_text(decrypt(private_key, sent_message))\n",
    "\n",
    "print(f\"Decrypted message : {decrypted_message}\")"
   ]
  }
 ],
 "metadata": {
  "deepnote_full_width": false,
  "deepnote_notebook_id": "f2bd972a934344f48aa22bb7693cf786",
  "deepnote_persisted_session": {
   "createdAt": "2025-05-02T08:03:31.789Z"
  },
  "kernelspec": {
   "display_name": "test-infomaniak-venv",
   "language": "python",
   "name": "python3"
  },
  "language_info": {
   "name": "python",
   "version": "3.12.10"
  }
 },
 "nbformat": 4,
 "nbformat_minor": 0
}
